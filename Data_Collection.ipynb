{
 "cells": [
  {
   "cell_type": "code",
   "execution_count": 1,
   "metadata": {
    "collapsed": true
   },
   "outputs": [],
   "source": [
    "# All Imports\n",
    "from collections import Counter\n",
    "import ConfigParser\n",
    "import matplotlib.pyplot as plt\n",
    "import networkx as nx\n",
    "import sys\n",
    "import time\n",
    "from amazon.api import AmazonAPI\n",
    "import io\n",
    "import re\n",
    "from amazon_scraper import AmazonScraper\n",
    "from nltk.corpus import sentiwordnet as swn\n",
    "\n",
    "%matplotlib inline"
   ]
  },
  {
   "cell_type": "code",
   "execution_count": 2,
   "metadata": {
    "collapsed": false
   },
   "outputs": [
    {
     "name": "stdout",
     "output_type": "stream",
     "text": [
      "Established Amazon connection.\n"
     ]
    }
   ],
   "source": [
    "# This method is done for you. Make sure to put your credentials in amazon.cfg.\n",
    "def get_amazon(config_file):\n",
    "    \"\"\" Read the config_file and construct an instance of AmazonAPI.\n",
    "    Args:\n",
    "      config_file ... A config file in ConfigParser format with Amazon credentials\n",
    "    Returns:\n",
    "      An instance of AmazonAPI.\n",
    "    \"\"\"\n",
    "    config = ConfigParser.ConfigParser()\n",
    "    config.read(config_file)\n",
    "    amazon = AmazonScraper(\n",
    "                   config.get('amazon', 'AMAZON_ACCESS_KEY'),\n",
    "                   config.get('amazon', 'AMAZON_SECRET_KEY'),\n",
    "                   config.get('amazon', 'AMAZON_ASSOC_TAG'))\n",
    "                   \n",
    "    return amazon\n",
    "\n",
    "amzn = get_amazon('amazon.cfg')\n",
    "print('Established Amazon connection.')"
   ]
  },
  {
   "cell_type": "code",
   "execution_count": null,
   "metadata": {
    "collapsed": true
   },
   "outputs": [],
   "source": [
    "# Fetch the 100 most viewes Product IDs of keyword (i.e 'Microsoft Surface') which falls in category (i.e 'Electronics').\n",
    "\n",
    "pid_lst = []\n",
    "for q in itertools.islice(amzn.search(Keywords='Microsoft Surface', SearchIndex='Electronics'), 100):\n",
    "    print(q.asin)\n",
    "    pid_lst.append(q.asin)"
   ]
  },
  {
   "cell_type": "code",
   "execution_count": null,
   "metadata": {
    "collapsed": true
   },
   "outputs": [],
   "source": [
    "# Store all the Product IDs in a file so that we can use it in future. \n",
    "\n",
    "fp = open('MS_PID.txt','w')\n",
    "for item in pid_lst:\n",
    "    fp.write(\"%s\\n\" %item)\n",
    "\n",
    "fp.close()"
   ]
  },
  {
   "cell_type": "code",
   "execution_count": null,
   "metadata": {
    "collapsed": true
   },
   "outputs": [],
   "source": [
    "# Reading the IDs from file and put it in list. \n",
    "\n",
    "pid = []\n",
    "pfile = open('MS_PID.txt','r')\n",
    "for i in pfile.read().split():\n",
    "    pid.append(i)\n",
    "    \n",
    "pfile.close()"
   ]
  },
  {
   "cell_type": "code",
   "execution_count": null,
   "metadata": {
    "collapsed": false
   },
   "outputs": [],
   "source": [
    "# To check the number of Product IDs we have fetched. \n",
    "\n",
    "len(pid)"
   ]
  },
  {
   "cell_type": "code",
   "execution_count": 3,
   "metadata": {
    "collapsed": false
   },
   "outputs": [],
   "source": [
    "# Take one by one Product ID and search for it. \n",
    "\n",
    "#pd = 'B00MA7A876'\n",
    "pd = 'B00KDI9C4O'\n",
    "p = amzn.lookup(ItemId=pd)"
   ]
  },
  {
   "cell_type": "code",
   "execution_count": null,
   "metadata": {
    "collapsed": false
   },
   "outputs": [],
   "source": [
    "p.url"
   ]
  },
  {
   "cell_type": "code",
   "execution_count": 4,
   "metadata": {
    "collapsed": true
   },
   "outputs": [],
   "source": [
    "# Download the reviews from amazon page by page and store the id and review text in list form. \n",
    "\n",
    "def Get_Reviews(pid):\n",
    "    \n",
    "    rs = amzn.reviews(ItemId=pid)\n",
    "    myReviews = []\n",
    "    myRID = []\n",
    "\n",
    "    for r in rs.full_reviews():\n",
    "    \n",
    "        myRID.append(r.id)\n",
    "        myReviews.append(r.text)\n",
    "           \n",
    "        if len(myReviews) >= 100:\n",
    "            break\n",
    "    \n",
    "    return myRID, myReviews"
   ]
  },
  {
   "cell_type": "code",
   "execution_count": 43,
   "metadata": {
    "collapsed": false
   },
   "outputs": [],
   "source": [
    "# Calling the Get_Reviews method and get the data. \n",
    "\n",
    "\n",
    "myRID, myReviews = Get_Reviews(pd)"
   ]
  },
  {
   "cell_type": "code",
   "execution_count": 41,
   "metadata": {
    "collapsed": false
   },
   "outputs": [
    {
     "data": {
      "text/plain": [
       "10"
      ]
     },
     "execution_count": 41,
     "metadata": {},
     "output_type": "execute_result"
    }
   ],
   "source": [
    "len(myRID)"
   ]
  },
  {
   "cell_type": "code",
   "execution_count": 44,
   "metadata": {
    "collapsed": false
   },
   "outputs": [
    {
     "data": {
      "text/plain": [
       "[u'None',\n",
       " u'None',\n",
       " u'None',\n",
       " u'None',\n",
       " u'Great computer and is more productive with touch screen after getting used to windows 8.1. Has many productivity features that I have not learned the full potential of yet.  Only problem is mouse pad has probably 10 features (not sure yet it does a ton of annoying things) that annoy and take up most the RAM, I am sure there is a way to adjust the mouse settings.  Touch screen is incredibly fast, mouse does its own thing and uses up much of the RAM.\\nSecondly this computer has a great processor just a little on the downside for RAM.  I have purchased a fast SD CARD for additional $20 and Windows Ready Boost has been helping tremendously for Word and Adobe documents.  Most likely going to put 8GB RAM into it so I can utilize the full potential of the computer.',\n",
       " u'awesome my husband loves this!',\n",
       " u\"Wifi problems galore. At least 10 calls to hp plus I mailed it in twice. They had me change the router, I did. Still the same problem...They said it was the modem, the cable company was here three times and even replaced the modem.\\nGoogle &#34;HP pavillion wifi problems&#34; and you'll see exactly what I mean.\\nThere is no end to this problem in sight.  Furthermore, I never had my wifi drop ever with my Dell.\\nUpdate 6/22/15...I called hp again and after hearing that they wanted to do a clean install I thought oh boy, I better find my own solution quick. I Googled the dns error while on the phone with support and found a video on you tube, the tech made the suggested changes remotely and after about three weeks of use I haven't had one wifi drop. thus I changes the rating from one to three stars. The tech said he would share this information with other co workers so hopefully at least others will have this problem fixed more quickly. It should never have taken so long but today it works.\",\n",
       " u'None',\n",
       " u\"I've had mine for about 6 months now and still can't believe how versatile it is.  It's like a huge Swiss army knife with a tool for everything and doesn't leave me feeling like the tool.\\nPros:\\nCan be placed in any position - screen rotation - windows button + O (that's an Oh, not a zero)\\nKeyboard is rather hard and doesn't flex like other laptops I've had\\nFAST - Yes, I said it. FAST! - I use chunky music software on it and it does fine, while downloading linux - hehe - bye windows!\\nTouch screen works well, but like most touch screens, be careful with drag and drop especially in list view\\nTakes a beating - I know; I'm rough on just about everything I own\\nHinges on screen are tough. Maybe a little stiff so I put WD40 on them...JK, don't do that\\nbeats audio - A bit better than I thought it'd be and the app allows you to tweak the sound to your liking\\nLarge solid state drive for bigger applications\\nDoesn't get Hot like many of the other notebook/laptop thingies I've owned\\nCons:\\nPeople might think it's an alternative to a tablet - If that's what you want, buy one of those - This ain't a tablet at 4 lbs\\nComes with bloatwares like McAfee making it take longer to personalize and slows down the machine\\nThe only physical problem with it is the viewing angle of the screen is kinda small and you will not see it's ON if the sun is out\\nI really have beat on it. Even played mechanic under an F250 for a week with it in tablet mode - yeah the screen cleans up.  If there are any cons, why give it 5 stars?  LOOK AT THE PRICE!!\",\n",
       " u'None']"
      ]
     },
     "execution_count": 44,
     "metadata": {},
     "output_type": "execute_result"
    }
   ],
   "source": [
    "myReviews"
   ]
  },
  {
   "cell_type": "code",
   "execution_count": 45,
   "metadata": {
    "collapsed": true
   },
   "outputs": [],
   "source": [
    "# To store the reviews in text file and named as it's Product ID. \n",
    "\n",
    "def Review_Store_File(p,myRID,myReviews):\n",
    "    \n",
    "    review_file = open('Reviews_Data/' + p.asin + '.txt','a')\n",
    "    for i in range(len(myRID)):\n",
    "\n",
    "        review_file.write(myRID[i] + \"->\" + myReviews[i].replace(\"\\n\", \" \").encode('utf-8') + \"\\n\")\n",
    "\n",
    "\n",
    "    review_file.close()"
   ]
  },
  {
   "cell_type": "code",
   "execution_count": 46,
   "metadata": {
    "collapsed": false
   },
   "outputs": [],
   "source": [
    "Review_Store_File(p,myRID,myReviews)"
   ]
  },
  {
   "cell_type": "code",
   "execution_count": 11,
   "metadata": {
    "collapsed": true
   },
   "outputs": [],
   "source": [
    "# To store the Item into items.txt to keep track of all items.\n",
    "\n",
    "\n",
    "def Item_Store_File(p):\n",
    "\n",
    "    items_file = open('items.txt',\"a\")\n",
    "    items_file.write(p.asin + \"\\t\" + p.title.encode('utf-8') + \"\\t\" + p.manufacturer + \"\\n\")\n",
    "\n",
    "    items_file.close()\n"
   ]
  },
  {
   "cell_type": "code",
   "execution_count": 12,
   "metadata": {
    "collapsed": true
   },
   "outputs": [],
   "source": [
    "Item_Store_File(p)"
   ]
  },
  {
   "cell_type": "code",
   "execution_count": 13,
   "metadata": {
    "collapsed": false
   },
   "outputs": [],
   "source": [
    "# To see the list of Items stored in 'items.txt' file. Here 3 columns are there. first depicts the Product IDs, \n",
    "# second gives Product titles and last column gives Manufacturer details.  \n",
    "\n",
    "def Items(itm):\n",
    "\n",
    "    itm_file = open(itm,\"r\")\n",
    "    print itm_file.read()\n",
    "    itm_file.close()\n"
   ]
  },
  {
   "cell_type": "code",
   "execution_count": 14,
   "metadata": {
    "collapsed": false
   },
   "outputs": [
    {
     "name": "stdout",
     "output_type": "stream",
     "text": [
      "B00THEP15O\tDell Inspiron 15.6 Inch Laptop\tDell Computers\n",
      "B00ZOO1RFO\tDell Inspiron i3543 15.6-Inch Touchscreen Laptop\tDell Computers\n",
      "B015JVB9C2\tDell Inspiron i3000-5099SLV Touchscreen Laptop\tDell Marketing USA, LP\n",
      "B010DOD2G6\tDell Inspiron 15 5000 15.6 Inch Laptop\tDell Marketing USA, LP\n",
      "B00VKL0I96\tDell Latitude E6420 Premium 14.1-Inch Business Laptop\tDell Computers\n",
      "B010DODAWM\tDell Inspiron 11 3000 Series 2-in-1  11.6 Inch Laptop\tDell Marketing USA, LP\n",
      "B013PK8LGQ\tDell Inspiron 3000 15.6-Inches Windows 8.1 Laptop \tDell Computers\n",
      "B012BPRLO4\tDell Latitude E6400 Laptop Core 2 Duo\tDell Computers\n",
      "B00YD1OQ1G\tDell Inspiron N2840 14-Inch Laptop\tDell Computers\n",
      "B014B9IS1S\t2015 Newest Dell Chromebook, 11.6 inch HD Non-Touch LCD\tDell Computers\n",
      "B00V2KX5JA\t2015 Newest Model Dell Inspiron 15 Laptop Computer\tDell Computers\n",
      "B00ZS64K7K\tDell Inspiron 15 i5548-4167SLV - 15.6\" Touchscreen\tDell Computers\n",
      "B00KMRGF28\tDell Inspiron i3531-1200BK 16-Inch Laptop,Black\tDell Computer\n",
      "B00Z1R85O0\t2015 Newest Dell Inspiron 2 in 1 Convertible Touchscreen Laptop\tDell Computers\n",
      "B00XPUUGDI\tDell Inspiron 15 i5548-1670SLV Touchscreen Laptop\tDell Computers\n",
      "B011N5HFOE\tNewest Dell Inspiron 15 3000 Series 3551 Laptop\tDell Computers\n",
      "B015PYZXRU\tDell Inspiron i5552-4391BLK 15.6 Inch Touchscreen Laptop\tDell Marketing USA, LP\n",
      "B00PGELA04\tDell 15 5000 i15547-5003sLV 16-Inch Touch Screen Laptop\tDell\n",
      "B015JVBD64\tDell Inspiron i5558-2859BLK 15.6 Inch Touchscreen Laptop\tDell Marketing USA, LP\n",
      "B00IB04M5K\tDell Inspiron i3541-2001BLK 15.6-Inch Laptop\tDell Computer\n",
      "B00RY4X8A4\t2015 Newest Model Dell XPS13 Ultrabook Computer\tDell Computers\n",
      "B00ZOLT5YC\t2015 Newest Model DELL Inspiron 15 Touchscreen Laptop\tDell Computers\n",
      "B015P3SH9W\tDell Inspiron i7359-6790SLV 2-in-1 Touchscreen Laptop\tDell Marketing USA, LP\n",
      "B00U8DHPX4\tDell - Inspiron I3542-11001BK 15.6\" Touch-Screen Laptop\tDell Computers\n",
      "B00K4PATO8\tDell Inspiron i5748-2143sLV 17.3-Inch Laptop\tDell Computer\n",
      "B004KZJ0UM\tDell Latitude D630 14.1-Inch Notebook PC - Silver 2011 Model\tDell Marketing USA, LP\n",
      "B011KFQASE\tASUS F555LA-AB31 15.6-inch Full-HD Laptop\tASUS Computers\n",
      "B00NJNE6AA\tDell Inspiron 15 7000 Series i7537T Touchscreen Laptop\tDell Computer\n",
      "B00VJ1P7TS\tApple MacBook Air MJVE2LL/A 13-inch Laptop\tApple Computer\n",
      "B01606KJ6C\tMicrosoft Surface Pro 4, Intel Core i5\tMicrosoft PC\n",
      "B00VGNZ4PG\tMicrosoft Surface 3 Tablet\tMicrosoft PC\n",
      "B00FF6J532\tMicrosoft Surface 2 (32 GB)\tMicrosoft Surface\n",
      "B0163GQJOU\tMicrosoft Surface Book Intel Core i5\tMicrosoft\n",
      "B00IU745S8\tG-Tab Iota Quad Core Android Tablet PC\tMatricom\n",
      "B00N9ERISQ\tMicrosoft Surface 2 32GB 10.6\" Tablet\tMicrosoft\n",
      "B00PPTP9IO\tToshiba Radius 2-in-1 11.6\" Touch-screen Laptop\tToshiba\n",
      "B00K4PAV5U\tDell Inspiron 15.6-Inch Touchscreen Laptop\tDell Computer\n",
      "B00MMLW3X2\tASUS K200MA-DS01T(S) 11.6-Inch HD Touchscreen Laptop (Black)\tAsus\n",
      "B00X9KPSKK\tHP Pavilion X360 13.3-Inch WLED HD Touch-screen Convertible Laptop\thp\n",
      "B00HRO37UC\tDell Inspiron 15.6-Inch Touchscreen Laptop (i15RVT-6195BLK)\tDell Computer\n",
      "B00K6ZIL0K\tLenovo Flex 2 15.6-Inch Touchscreen Laptop (59418271) Black\tLenovo\n",
      "B00KDI9C4O\tHP Pavilion x360 13-a010nr 13.3-Inch 2 in 1 Convertible Touchscreen Laptop\thp\n",
      "\n"
     ]
    }
   ],
   "source": [
    "Items('items.txt')"
   ]
  }
 ],
 "metadata": {
  "kernelspec": {
   "display_name": "Python 2",
   "language": "python",
   "name": "python2"
  },
  "language_info": {
   "codemirror_mode": {
    "name": "ipython",
    "version": 2
   },
   "file_extension": ".py",
   "mimetype": "text/x-python",
   "name": "python",
   "nbconvert_exporter": "python",
   "pygments_lexer": "ipython2",
   "version": "2.7.6"
  }
 },
 "nbformat": 4,
 "nbformat_minor": 0
}
