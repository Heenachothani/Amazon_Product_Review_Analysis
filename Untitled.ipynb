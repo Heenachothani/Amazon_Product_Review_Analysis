{
 "cells": [
  {
   "cell_type": "code",
   "execution_count": null,
   "metadata": {
    "collapsed": false
   },
   "outputs": [],
   "source": []
  },
  {
   "cell_type": "code",
   "execution_count": null,
   "metadata": {
    "collapsed": false
   },
   "outputs": [],
   "source": []
  },
  {
   "cell_type": "code",
   "execution_count": null,
   "metadata": {
    "collapsed": false
   },
   "outputs": [],
   "source": []
  },
  {
   "cell_type": "code",
   "execution_count": 10,
   "metadata": {
    "collapsed": false
   },
   "outputs": [],
   "source": [
    "from bs4 import BeautifulSoup\n",
    "import urllib\n",
    "import urllib2\n",
    "headers = {'User-agent': 'Mozilla/5.0 (Windows NT 6.2; WOW64) AppleWebKit/537.36 (KHTML, like Gecko) Chrome/37.0.2062.120 Safari/537.36'}\n",
    "url = 'http://www.amazon.com/dp/0439136369'\n",
    "data = urllib.urlencode(headers)\n",
    "req = urllib2.Request(url,data)\n",
    "soup = BeautifulSoup(urllib2.urlopen(req).read())\n",
    "for x in soup.find_all('table',id='productDetailsTable'):\n",
    "    for tag in x.find_all('li'):\n",
    "        tag.get_text()"
   ]
  },
  {
   "cell_type": "code",
   "execution_count": 14,
   "metadata": {
    "collapsed": false
   },
   "outputs": [
    {
     "name": "stdout",
     "output_type": "stream",
     "text": [
      "{u'Age Range': u'9 - 12 years',\n",
      " u'Amazon Best Sellers Rank': u'#572 in Books (',\n",
      " u'Average Customer Review': u'',\n",
      " u'Grade Level': u'4 - 7',\n",
      " u'ISBN-10': u'0439136369',\n",
      " u'ISBN-13': u'978-0439136365',\n",
      " u'Language': u'English',\n",
      " u'Lexile Measure': u'880L',\n",
      " u'Paperback': u'448 pages',\n",
      " u'Product Dimensions': u'1.2 x 5.2 x 7.8 inches',\n",
      " u'Publisher': u'Scholastic Paperbacks (October 1, 2001)',\n",
      " u'Series': u'Harry Potter (Book 3)',\n",
      " u'Shipping Weight': u'11.2 ounces ('}\n"
     ]
    }
   ],
   "source": [
    "from pprint import pprint\n",
    "from bs4 import BeautifulSoup\n",
    "import requests\n",
    "\n",
    "url = 'http://www.amazon.com/dp/0439136369'\n",
    "response = requests.get(url, headers={'User-agent': 'Mozilla/5.0 (Windows NT 6.2; WOW64) AppleWebKit/537.36 (KHTML, like Gecko) Chrome/37.0.2062.120 Safari/537.36'})\n",
    "\n",
    "soup = BeautifulSoup(response.content)\n",
    "tags = {}\n",
    "for li in soup.select('table#productDetailsTable div.content ul li'):\n",
    "    try:\n",
    "        title = li.b\n",
    "        key = title.text.strip().rstrip(':')\n",
    "        value = title.next_sibling.strip()\n",
    "        \n",
    "        tags[key] = value\n",
    "    except AttributeError:\n",
    "        break\n",
    "\n",
    "pprint(tags)"
   ]
  },
  {
   "cell_type": "code",
   "execution_count": 11,
   "metadata": {
    "collapsed": false
   },
   "outputs": [],
   "source": [
    "import requests\n",
    "\n",
    "nreviews_re = {'com': re.compile('\\d[\\d,]+(?= customer review)'), \n",
    "               'co.uk':re.compile('\\d[\\d,]+(?= customer review)'),\n",
    "               'de': re.compile('\\d[\\d\\.]+(?= Kundenrezens\\w\\w)')}\n",
    "no_reviews_re = {'com': re.compile('no customer reviews'), \n",
    "                 'co.uk':re.compile('no customer reviews'),\n",
    "                 'de': re.compile('Noch keine Kundenrezensionen')}\n",
    "\n",
    "def get_number_of_reviews(asin, country='com'):                                 \n",
    "    url = 'http://www.amazon.{country}/product-reviews/{asin}'.format(country=country, asin=asin)\n",
    "    html = requests.get(url).text\n",
    "    try:\n",
    "        return int(re.compile('\\D').sub('',nreviews_re[country].search(html).group(0)))\n",
    "    except:\n",
    "        if no_reviews_re[country].search(html):\n",
    "            return 0\n",
    "        else:\n",
    "            return None  # to distinguish from 0, and handle more cases if necessary)"
   ]
  },
  {
   "cell_type": "code",
   "execution_count": 13,
   "metadata": {
    "collapsed": false
   },
   "outputs": [
    {
     "name": "stdout",
     "output_type": "stream",
     "text": [
      "None\n"
     ]
    }
   ],
   "source": [
    "print get_number_of_reviews('0439136369', 'com')"
   ]
  },
  {
   "cell_type": "code",
   "execution_count": null,
   "metadata": {
    "collapsed": false
   },
   "outputs": [],
   "source": [
    "os.rename(\"json/\"+filename,\"json/rev\"+str(i)+\".json\")\n",
    "        print filename\n",
    "        i+=1\n",
    "    else:\n",
    "        print \"already done\"\n"
   ]
  },
  {
   "cell_type": "code",
   "execution_count": 17,
   "metadata": {
    "collapsed": false
   },
   "outputs": [
    {
     "name": "stdout",
     "output_type": "stream",
     "text": [
      "rev0.json\n"
     ]
    }
   ],
   "source": [
    "i = 0\n",
    "print 'rev'+str(i)+'.json'"
   ]
  },
  {
   "cell_type": "code",
   "execution_count": 58,
   "metadata": {
    "collapsed": false,
    "scrolled": true
   },
   "outputs": [
    {
     "name": "stdout",
     "output_type": "stream",
     "text": [
      "reviews_058.json\n",
      "reviews_010.json\n",
      "reviews_011.json\n",
      "reviews_039.json\n",
      "reviews_017.json\n",
      "reviews_061.json\n",
      "reviews_02.json\n",
      "reviews_068.json\n",
      "reviews_059.json\n",
      "reviews_094.json\n",
      "reviews_089.json\n",
      "reviews_020.json\n",
      "reviews_090.json\n",
      "reviews_079.json\n",
      "reviews_015.json\n",
      "reviews_093.json\n",
      "reviews_01.json\n",
      "reviews_029.json\n",
      "reviews_032.json\n",
      "reviews_018.json\n",
      "reviews_043.json\n",
      "reviews_07.json\n",
      "reviews_0101.json\n",
      "reviews_040.json\n",
      "reviews_09.json\n",
      "reviews_048.json\n",
      "reviews_021.json\n",
      "reviews_0100.json\n",
      "reviews_023.json\n",
      "reviews_073.json\n",
      "reviews_026.json\n",
      "reviews_078.json\n",
      "reviews_033.json\n",
      "reviews_056.json\n",
      "reviews_096.json\n",
      "reviews_037.json\n",
      "reviews_035.json\n",
      "reviews_088.json\n",
      "reviews_071.json\n",
      "reviews_06.json\n",
      "reviews_04.json\n",
      "reviews_038.json\n",
      "reviews_046.json\n",
      "reviews_054.json\n",
      "reviews_065.json\n",
      "reviews_0103.json\n",
      "reviews_044.json\n",
      "reviews_0106.json\n",
      "reviews_028.json\n",
      "reviews_024.json\n",
      "reviews_077.json\n",
      "reviews_087.json\n",
      "reviews_042.json\n",
      "reviews_080.json\n",
      "reviews_0102.json\n",
      "reviews_050.json\n",
      "reviews_041.json\n",
      "reviews_027.json\n",
      "reviews_019.json\n",
      "reviews_055.json\n",
      "reviews_060.json\n",
      "reviews_047.json\n",
      "reviews_036.json\n",
      "reviews_057.json\n",
      "reviews_0105.json\n",
      "reviews_049.json\n",
      "reviews_025.json\n",
      "reviews_0104.json\n",
      "reviews_051.json\n",
      "reviews_013.json\n",
      "reviews_069.json\n",
      "reviews_098.json\n",
      "reviews_03.json\n",
      "reviews_012.json\n",
      "reviews_062.json\n",
      "reviews_064.json\n",
      "reviews_052.json\n",
      "reviews_016.json\n",
      "reviews_086.json\n",
      "reviews_08.json\n",
      "reviews_095.json\n",
      "reviews_085.json\n",
      "reviews_074.json\n",
      "reviews_030.json\n",
      "reviews_066.json\n",
      "reviews_022.json\n",
      "reviews_097.json\n",
      "reviews_034.json\n",
      "reviews_075.json\n",
      "reviews_091.json\n",
      "reviews_072.json\n",
      "reviews_092.json\n",
      "reviews_053.json\n",
      "reviews_014.json\n",
      "reviews_076.json\n",
      "reviews_083.json\n",
      "reviews_05.json\n",
      "reviews_067.json\n",
      "reviews_082.json\n",
      "reviews_070.json\n",
      "reviews_045.json\n",
      "reviews_031.json\n",
      "reviews_084.json\n",
      "reviews_063.json\n",
      "reviews_081.json\n",
      "reviews_099.json\n"
     ]
    }
   ],
   "source": [
    "import os\n",
    "i = 0\n",
    "for filename in os.listdir(\"json/.\"):\n",
    "    if filename.startswith(\"reviews_\"):\n",
    "        print filename\n",
    "        \n",
    "        \n",
    "    else:\n",
    "        print \"already done\"\n"
   ]
  },
  {
   "cell_type": "code",
   "execution_count": 73,
   "metadata": {
    "collapsed": false
   },
   "outputs": [],
   "source": [
    "import json\n",
    "from pprint import pprint\n",
    "\n",
    "#config = json.loads(open('rev0.json').read())\n",
    "with open('json/reviews_0101.json', 'r') as handle:\n",
    "    json_data = [json.loads(line) for line in handle]"
   ]
  },
  {
   "cell_type": "code",
   "execution_count": 76,
   "metadata": {
    "collapsed": false
   },
   "outputs": [],
   "source": [
    "lst = []\n",
    "lmp = []\n",
    "for i in range(len(json_data)):\n",
    "     if str(json_data[i]['asin'])=='B00IU745S8':\n",
    "        lst.append(json_data[i]['reviewerID'])\n",
    "        lmp.append(json_data[i]['reviewText'])"
   ]
  },
  {
   "cell_type": "code",
   "execution_count": 65,
   "metadata": {
    "collapsed": false
   },
   "outputs": [
    {
     "name": "stdout",
     "output_type": "stream",
     "text": [
      "read 2462 AFINN terms.\n",
      "E.g.: [('limited', -1), ('suicidal', -2), ('pardon', 2), ('desirable', 2), ('protest', -2), ('lurking', -1), ('controversial', -2), ('hating', -3), ('ridiculous', -3), ('hate', -3)]\n"
     ]
    }
   ],
   "source": [
    "from StringIO import StringIO\n",
    "from zipfile import ZipFile\n",
    "from urllib import urlopen\n",
    "\n",
    "url = urlopen('http://www2.compute.dtu.dk/~faan/data/AFINN.zip')\n",
    "zipfile = ZipFile(StringIO(url.read()))\n",
    "afinn_file = zipfile.open('AFINN/AFINN-111.txt')\n",
    "\n",
    "afinn = dict()\n",
    "\n",
    "for line in afinn_file:\n",
    "    parts = line.strip().split()\n",
    "    if len(parts) == 2:\n",
    "        afinn[parts[0]] = int(parts[1])\n",
    "\n",
    "print 'read', len(afinn), 'AFINN terms.\\nE.g.:', afinn.items()[:10]"
   ]
  },
  {
   "cell_type": "code",
   "execution_count": null,
   "metadata": {
    "collapsed": true
   },
   "outputs": [],
   "source": []
  },
  {
   "cell_type": "code",
   "execution_count": null,
   "metadata": {
    "collapsed": true
   },
   "outputs": [],
   "source": []
  },
  {
   "cell_type": "code",
   "execution_count": null,
   "metadata": {
    "collapsed": true
   },
   "outputs": [],
   "source": []
  },
  {
   "cell_type": "code",
   "execution_count": 302,
   "metadata": {
    "collapsed": true
   },
   "outputs": [],
   "source": [
    "# All Imports\n",
    "from collections import Counter\n",
    "import ConfigParser\n",
    "import matplotlib.pyplot as plt\n",
    "import networkx as nx\n",
    "import sys\n",
    "import time\n",
    "from amazon.api import AmazonAPI\n",
    "import io\n",
    "import re\n",
    "#import nltk\n",
    "#nltk.download()\n",
    "from nltk.corpus import sentiwordnet as swn\n",
    "\n",
    "%matplotlib inline"
   ]
  },
  {
   "cell_type": "code",
   "execution_count": 321,
   "metadata": {
    "collapsed": false
   },
   "outputs": [],
   "source": [
    "def file2string(filename):\n",
    "    result = []\n",
    "    result = io.open(filename, encoding='utf8').readlines()\n",
    "    for val in range(0,len(result)):\n",
    "        result[val]=re.sub(\"\\n\",\"\",result[val])\n",
    "        \n",
    "    return result\n",
    "\n",
    "item_list = file2string(\"items.txt\")"
   ]
  },
  {
   "cell_type": "code",
   "execution_count": null,
   "metadata": {
    "collapsed": false
   },
   "outputs": [],
   "source": []
  },
  {
   "cell_type": "code",
   "execution_count": 323,
   "metadata": {
    "collapsed": false
   },
   "outputs": [],
   "source": [
    "def itemsDictionary(itemlst):\n",
    "    result = {}\n",
    "    for item in itemlst:\n",
    "        #print item\n",
    "        temp = item.split(\"\\t\")\n",
    "        result[temp[0]]=(temp[1],temp[2])\n",
    "    return result\n",
    "\n",
    "item_dictionary = itemsDictionary(item_list)"
   ]
  },
  {
   "cell_type": "code",
   "execution_count": 324,
   "metadata": {
    "collapsed": false,
    "scrolled": true
   },
   "outputs": [
    {
     "data": {
      "text/plain": [
       "[u'B011N5HFOE',\n",
       " u'B004KZJ0UM',\n",
       " u'B00ZOO1RFO',\n",
       " u'B012BPRLO4',\n",
       " u'B00PGELA04',\n",
       " u'B011KFQASE',\n",
       " u'B00Z1R85O0',\n",
       " u'B00VGNZ4PG',\n",
       " u'B015P3SH9W',\n",
       " u'B00VJ1P7TS',\n",
       " u'B014V3V9J2',\n",
       " u'B015PYZXRU',\n",
       " u'B00VKL0I96',\n",
       " u'B00XPUUGDI',\n",
       " u'B00V2KX5JA',\n",
       " u'B00RY4X8A4',\n",
       " u'B00ZS64K7K',\n",
       " u'B00FF6J532',\n",
       " u'B00K4PATO8',\n",
       " u'B00IU745S8',\n",
       " u'B0163GQJOU',\n",
       " u'B00NJNE6AA',\n",
       " u'B015JVBD64',\n",
       " u'B00YD1OQ1G',\n",
       " u'B00U8DHPX4',\n",
       " u'B013PK8LGQ',\n",
       " u'B014B9IS1S',\n",
       " u'B015JVB9C2',\n",
       " u'B00THEP15O',\n",
       " u'B010DODAWM',\n",
       " u'B01606KJ6C',\n",
       " u'B00IB04M5K',\n",
       " u'B010DOD2G6',\n",
       " u'B00ZOLT5YC',\n",
       " u'B00KMRGF28']"
      ]
     },
     "execution_count": 324,
     "metadata": {},
     "output_type": "execute_result"
    }
   ],
   "source": [
    "item_dictionary.keys()"
   ]
  },
  {
   "cell_type": "code",
   "execution_count": 262,
   "metadata": {
    "collapsed": false
   },
   "outputs": [],
   "source": [
    "fil = file2string('B007ED7ZDG.txt')"
   ]
  },
  {
   "cell_type": "code",
   "execution_count": 263,
   "metadata": {
    "collapsed": false,
    "scrolled": true
   },
   "outputs": [
    {
     "data": {
      "text/plain": [
       "[u\"R5SVJK2YBRKIY->This is by FAR the WORST laptop I've ever owned. . . and I've owned HP!! From the very first day it froze up, failed to install updates, crashed, It's a total POS. I bought a Dell about 5-6 yrs ago and it was great. This one SUCKS. Do NOT buy it. Bad out of the box. Dell &#34;quality&#34; is in a state of crisis. Go with Toshiba or ANYTHING other than Dell.\",\n",
       " u\"R2SU2BHSQQ04Y3->I bought one expecting that it has a high-quality performance and not just good physical attributes. I like its portability since I could easily carry it around wherever I want to work and it looks really neat. At first, everything's going smoothly. However, on my laptop's second month I noticed that at times it freezes and it takes 15 to 30 minutes before it goes back to normal. If given the chance, I'd switch this to other model.\",\n",
       " u'R1WQ6CHGPHXIYV->May be i can try somethng better rhan that...',\n",
       " u'R326OJJ58SAQGX->Very satisfied',\n",
       " u'R3OSJP4ORCDP76->Very solid and well running laptop.',\n",
       " u'R25RF1NRF7J105->I did not know the memory is this much low my cell phone is even have more space than it. But everything else is great. Fast, clear',\n",
       " u'R1OZJVDD17VZS5->Fantastic!',\n",
       " u'R3UZ0C1CNBOR5G->2 of the keys on the number pad did not work when I received it.',\n",
       " u'RA5ZEG4P44NPI->would give it five stars but the keyboard is not back lit, $65.00 later and it will be... upgraded to 16 gig of RAM and this thing absolutely flies!!!!great computer after upgrades',\n",
       " u\"R27MI92ZGCE5RO->It didn't work properly\",\n",
       " u'RS75X882YYYAB->great value for the money.',\n",
       " u'R2XTOIQ4E0MWZ4->I am glad with my computer',\n",
       " u'RODVFZHMXLPVH->Very good one.',\n",
       " u\"R1O4I5NAAO3QVZ->I like the computer itself - it's fast.  What I don't like is the upgrade to Windows 10 going from Windows 7.  I cannot connect my other two laptops running Windows 7 to this new laptop running Windows 10 and its extremely frustrating.  But that's a Windows 10 issue.\",\n",
       " u'R26AX6WT1VTPX1->great product',\n",
       " u'RUYSN3VXWGEAG->SCREAMING FAST LAPTOP that works faster than I can type',\n",
       " u'R2Y85N7YJ8ZFCI->Good',\n",
       " u\"R3JOUGTW06CHU->I didn't like much this laptop, despite it has a good configuration (intel core i7 with 6gb RAM).It's not up to a Dell computer in terms of design. It's not beautiful.It's is extremally simple, it has not even a led on the panel. So that you don't know if it's on and if the HD is running.It has only a led on it's foot wich doesn't stays always on.It's NOT touch screen.It should be much better, since it's a 5th generation Dell computer.I had a Dell Vostro 3200 and it was much more beautiful than this Dell Inspiron 15.\",\n",
       " u\"RE4KGVRPEIOZ2->If you ever need customer support, you won't get it.  If you buy this laptop, hope nothing ever goes wrong.  Or have hours available to wait on hold.  If you try to use the chat service more than 6 months after your purchase, you will be out of luck.  Just be prepared for &#34;We are experiencing higher than expected call volumes.&#34;\",\n",
       " u'R23X9UNVZD7YUW->Great lapto',\n",
       " u'R19E4ZVUB1UUDE->The laptop has evident issues as it 1) turns off immediately upon being moved slightly (moving the screen a few degrees, shifting the laptop in your lap) 2) oftentimes refuses to turn on and, when it does, turns off immediately afterwards.Do not buy this laptop.',\n",
       " u'R37ZPWU3THS57P->dont go for dell.It is worst. Its technical support is hell.you will experience hell talking to them and to get your laptop service',\n",
       " u\"R1W1Y4DOT00DO0->I wish I would have checked with Amazon before I purchased this make/model computer.  Instead I bought it at a big box store...big mistake.  If I had checked it out on the Amazon site I could have found out more information that I got from my big box store salesman.  First,on this model there is no backlight on the keyboard (my salesman said it had it...always check before you take a salesman's word as accurate.) Really, now days, almost all laptops have a lit keyboard.  I had a HP Pavilion 6 that got severely damaged and that is why I had to buy a new computer.  The HP had a brushed silver look...the Dell is solid black.  The Dell's touchpad is VERY flimsy.  I don't think it can possibly last very long.  It has a mushy feel and slow response when you tap it to scroll vertically and frequently freezes up if you try to scroll too fast. Also, it tends to stick to your finger when scrolling.  I had to put baby powder on my finger to prevent this and I don't know how well that will work in the long run.  In fact, I have purchased a wireless mouse to use for all scrolling.  I bought this Dell because it is one of the few remaining computers in this price range that has a DVD drive.  Most companies no longer include this type of drive as they are trying to lighten the weight and make the profile slimmer.Compared to the HP Pavilion that I had, this replacement Dell computer is a big disappointment especially for the price.\",\n",
       " u'R33P1VM5AV1Y6E->a really nice laptop, works great and I love it! Opens webpages and applications lightning fast.The display is wonderful and the touchscreen is very sensitive. Save me a lot of time when i am having heavy workloads. Nice seller\\x1afast processing and shipping.',\n",
       " u'R3DLWB8CZUA169->I bought this computer for personal use and school. I needed a computer with the right combination of specs so it would work efficiently and not slow up. I needed multiple windows open at once, and this computer worked with out missing a beat.For the price and specs, this computer is awesome. Dell did a great job with the combination of specs for it to run efficiently. I have had computers in the past that had fast processors and the combination of internal parts did not match so the computer was slow.This computer is an &#34;awesome buy&#34;.I would recommend this to a friend!',\n",
       " u'R2EBNT3P88SJII->Super fast and smooth with a i7 processor. My favorite part is that the screen color is very bright and true to nature. Lightweight compared to other high end dell laptops. Good deal for the price.',\n",
       " u\"R1JGNH0YO3MV9Z->I was looking for a fast and high conf computer. I got this within my budget. This really fulfill my needs. Everything is perfect except you can't see any indicator which will say you if your computer is still running or it is shut down. Sound quality is really better than my previous laptop. I was running 4-5 tasks at a time. Still no performance drop. I love black color and it looks gorgeous in black. Typing is really cool. It's processor is 2.4 GHz with a turbo booster upto 3 GHz. Already got my Windows 10.  Overall, this laptop deserves a 5!\",\n",
       " u'R2CXNV8ZZ6WZ0E->really great laptop!',\n",
       " u\"R32QVRN5MI23EH->Nice laptop. I got this laptop a week ago and love it! It works great for my use as a student. The windows 8.1 has taken a bit of getting used to but it doesn't bother me. The display is awesome and the touchscreen works great too! The processor is very fast, and the laptop makes virtually no noise at all--it doesn't even get hot!  If you are fond of gaming and Graphic intense work.Then leave this laptop as it has Intel HD 4400 Onboard Graphics and they arent that good when it comes to gaming,for any other kind of work this laptop is a piece of cake.\",\n",
       " u'R1S8BEA1AA8WMM->high quality computer, love it so much. great seller, ships very fast!!!']"
      ]
     },
     "execution_count": 263,
     "metadata": {},
     "output_type": "execute_result"
    }
   ],
   "source": [
    "fil"
   ]
  },
  {
   "cell_type": "code",
   "execution_count": 289,
   "metadata": {
    "collapsed": false
   },
   "outputs": [],
   "source": [
    "items = ['B004KZJ0UM','B007ED7ZDG','B00FF6J532']"
   ]
  },
  {
   "cell_type": "code",
   "execution_count": 331,
   "metadata": {
    "collapsed": false
   },
   "outputs": [
    {
     "data": {
      "text/plain": [
       "u'B00VJ1P7TS'"
      ]
     },
     "execution_count": 331,
     "metadata": {},
     "output_type": "execute_result"
    }
   ],
   "source": [
    "(item_dictionary.keys())[9]"
   ]
  },
  {
   "cell_type": "code",
   "execution_count": 344,
   "metadata": {
    "collapsed": false,
    "scrolled": true
   },
   "outputs": [],
   "source": [
    "## This will give average rating of all items in our list.\n",
    "\n",
    "\n",
    "avg = []\n",
    "\n",
    "for item in item_dictionary.keys():\n",
    "    #print item\n",
    "    review_list = []\n",
    "    afn = []\n",
    "    lmp = []\n",
    "    fil = file2string(item+'.txt')\n",
    "    \n",
    "    for review in fil:\n",
    "        review_list.append(review.split(\"->\")[1])\n",
    "    \n",
    "    for review in review_list:\n",
    "         afn.append(afinn_sentiment(review.split(), afinn))\n",
    "    \n",
    "    for i in range(len(afn)):\n",
    "        tup = (review_list[i],afn[i])\n",
    "        lmp.append(tup)\n",
    "    \n",
    "    average = sum(afn)/len(afn)\n",
    "    avg.append(average)"
   ]
  },
  {
   "cell_type": "code",
   "execution_count": 347,
   "metadata": {
    "collapsed": false,
    "scrolled": true
   },
   "outputs": [
    {
     "data": {
      "text/plain": [
       "[2.125,\n",
       " 1.95,\n",
       " 2.25,\n",
       " 2.0,\n",
       " 2.1956521739130435,\n",
       " 4.59,\n",
       " 2.533333333333333,\n",
       " 5.6,\n",
       " 6.779661016949152,\n",
       " 2.740740740740741,\n",
       " 12.0,\n",
       " 3.3846153846153846,\n",
       " 1.358974358974359,\n",
       " 2.7972972972972974,\n",
       " 5.625,\n",
       " 3.13,\n",
       " 5.086956521739131,\n",
       " 3.0980392156862746,\n",
       " 1.28,\n",
       " 5.86,\n",
       " 4.9,\n",
       " 3.595959595959596,\n",
       " 3.3846153846153846,\n",
       " 1.394736842105263,\n",
       " 1.5,\n",
       " 3.9444444444444446,\n",
       " 2.3333333333333335,\n",
       " 1.5666666666666667,\n",
       " 1.509090909090909,\n",
       " 1.4324324324324325,\n",
       " 5.3061224489795915,\n",
       " 3.037974683544304,\n",
       " 1.2666666666666666,\n",
       " 1.96,\n",
       " 1.43]"
      ]
     },
     "execution_count": 347,
     "metadata": {},
     "output_type": "execute_result"
    }
   ],
   "source": [
    "avg"
   ]
  },
  {
   "cell_type": "code",
   "execution_count": 348,
   "metadata": {
    "collapsed": false
   },
   "outputs": [
    {
     "data": {
      "image/png": "[encoded data removed]",
      "text/plain": [
       "<matplotlib.figure.Figure at 0x7f62681791d0>"
      ]
     },
     "metadata": {},
     "output_type": "display_data"
    }
   ],
   "source": [
    "### This will give the BAR graph of items->average. \n",
    "\n",
    "\n",
    "from collections import Counter\n",
    "import matplotlib.pyplot as plt\n",
    "%matplotlib inline\n",
    "\n",
    "items= [i for i in range(len(item_dictionary.keys()))]\n",
    "average = ap\n",
    "\n",
    "plt.bar(items,average)\n",
    "plt.xticks(items)\n",
    "plt.xlabel('items')\n",
    "plt.ylabel('average')\n",
    "plt.show()"
   ]
  },
  {
   "cell_type": "code",
   "execution_count": null,
   "metadata": {
    "collapsed": true
   },
   "outputs": [],
   "source": []
  },
  {
   "cell_type": "code",
   "execution_count": null,
   "metadata": {
    "collapsed": true
   },
   "outputs": [],
   "source": []
  },
  {
   "cell_type": "code",
   "execution_count": null,
   "metadata": {
    "collapsed": true
   },
   "outputs": [],
   "source": []
  },
  {
   "cell_type": "code",
   "execution_count": null,
   "metadata": {
    "collapsed": true
   },
   "outputs": [],
   "source": []
  },
  {
   "cell_type": "code",
   "execution_count": 168,
   "metadata": {
    "collapsed": false
   },
   "outputs": [],
   "source": [
    "review_list = []\n",
    "for review in fil:\n",
    "    #print review.split(\"->\")[1],\"\\n\"\n",
    "    review_list.append((review.split(\"->\")[1]))"
   ]
  },
  {
   "cell_type": "code",
   "execution_count": 169,
   "metadata": {
    "collapsed": false
   },
   "outputs": [
    {
     "data": {
      "text/plain": [
       "u\"This is by FAR the WORST laptop I've ever owned. . . and I've owned HP!! From the very first day it froze up, failed to install updates, crashed, It's a total POS. I bought a Dell about 5-6 yrs ago and it was great. This one SUCKS. Do NOT buy it. Bad out of the box. Dell &#34;quality&#34; is in a state of crisis. Go with Toshiba or ANYTHING other than Dell.\""
      ]
     },
     "execution_count": 169,
     "metadata": {},
     "output_type": "execute_result"
    }
   ],
   "source": [
    "review_list[0]"
   ]
  },
  {
   "cell_type": "code",
   "execution_count": 265,
   "metadata": {
    "collapsed": false
   },
   "outputs": [
    {
     "name": "stdout",
     "output_type": "stream",
     "text": [
      "AFINN:\n",
      "6.0\n"
     ]
    }
   ],
   "source": [
    "def afinn_sentiment(terms, afinn):\n",
    "    total = 0.\n",
    "    for t in terms:\n",
    "        if t in afinn:\n",
    "            #print '\\t%s=%d' % (t, afinn[t])\n",
    "            total += afinn[t]\n",
    "    return total\n",
    "    \n",
    "#doc = \"i don't know if this is a scam or if mine was broken\".split()\n",
    "print 'AFINN:\\n', afinn_sentiment(review_list[1].split(), afinn)"
   ]
  },
  {
   "cell_type": "code",
   "execution_count": 170,
   "metadata": {
    "collapsed": true
   },
   "outputs": [],
   "source": [
    "item_ids = 'B007ED7ZDG'"
   ]
  },
  {
   "cell_type": "code",
   "execution_count": 171,
   "metadata": {
    "collapsed": false
   },
   "outputs": [],
   "source": [
    "afn = []\n",
    "for review in review_list:\n",
    "     afn.append(afinn_sentiment(review.split(), afinn))"
   ]
  },
  {
   "cell_type": "code",
   "execution_count": null,
   "metadata": {
    "collapsed": true
   },
   "outputs": [],
   "source": []
  },
  {
   "cell_type": "code",
   "execution_count": 251,
   "metadata": {
    "collapsed": false
   },
   "outputs": [
    {
     "data": {
      "text/plain": [
       "[-2.0,\n",
       " 6.0,\n",
       " 2.0,\n",
       " 2.0,\n",
       " 2.0,\n",
       " 1.0,\n",
       " 0.0,\n",
       " 0.0,\n",
       " 0.0,\n",
       " 0.0,\n",
       " 3.0,\n",
       " 3.0,\n",
       " 3.0,\n",
       " 4.0,\n",
       " 3.0,\n",
       " 0.0,\n",
       " 0.0,\n",
       " 8.0,\n",
       " 3.0,\n",
       " 0.0,\n",
       " 0.0,\n",
       " -2.0,\n",
       " 1.0,\n",
       " 13.0,\n",
       " 3.0,\n",
       " 5.0,\n",
       " 9.0,\n",
       " 3.0,\n",
       " 17.0,\n",
       " 6.0]"
      ]
     },
     "execution_count": 251,
     "metadata": {},
     "output_type": "execute_result"
    }
   ],
   "source": [
    "afn"
   ]
  },
  {
   "cell_type": "code",
   "execution_count": null,
   "metadata": {
    "collapsed": false
   },
   "outputs": [],
   "source": []
  },
  {
   "cell_type": "code",
   "execution_count": 174,
   "metadata": {
    "collapsed": true
   },
   "outputs": [],
   "source": [
    "### This will give the list of tuples which contain the reviews and it's rating. \n",
    "\n",
    "\n",
    "lmp = []\n",
    "for i in range(len(afn)):\n",
    "    tup = (review_list[i],afn[i])\n",
    "    lmp.append(tup)"
   ]
  },
  {
   "cell_type": "code",
   "execution_count": 175,
   "metadata": {
    "collapsed": false,
    "scrolled": true
   },
   "outputs": [
    {
     "data": {
      "text/plain": [
       "[(u\"This is by FAR the WORST laptop I've ever owned. . . and I've owned HP!! From the very first day it froze up, failed to install updates, crashed, It's a total POS. I bought a Dell about 5-6 yrs ago and it was great. This one SUCKS. Do NOT buy it. Bad out of the box. Dell &#34;quality&#34; is in a state of crisis. Go with Toshiba or ANYTHING other than Dell.\",\n",
       "  -2.0),\n",
       " (u\"I bought one expecting that it has a high-quality performance and not just good physical attributes. I like its portability since I could easily carry it around wherever I want to work and it looks really neat. At first, everything's going smoothly. However, on my laptop's second month I noticed that at times it freezes and it takes 15 to 30 minutes before it goes back to normal. If given the chance, I'd switch this to other model.\",\n",
       "  6.0),\n",
       " (u'May be i can try somethng better rhan that...', 2.0),\n",
       " (u'Very satisfied', 2.0),\n",
       " (u'Very solid and well running laptop.', 2.0),\n",
       " (u'I did not know the memory is this much low my cell phone is even have more space than it. But everything else is great. Fast, clear',\n",
       "  1.0),\n",
       " (u'Fantastic!', 0.0),\n",
       " (u'2 of the keys on the number pad did not work when I received it.', 0.0),\n",
       " (u'would give it five stars but the keyboard is not back lit, $65.00 later and it will be... upgraded to 16 gig of RAM and this thing absolutely flies!!!!great computer after upgrades',\n",
       "  0.0),\n",
       " (u\"It didn't work properly\", 0.0),\n",
       " (u'great value for the money.', 3.0),\n",
       " (u'I am glad with my computer', 3.0),\n",
       " (u'Very good one.', 3.0),\n",
       " (u\"I like the computer itself - it's fast.  What I don't like is the upgrade to Windows 10 going from Windows 7.  I cannot connect my other two laptops running Windows 7 to this new laptop running Windows 10 and its extremely frustrating.  But that's a Windows 10 issue.\",\n",
       "  4.0),\n",
       " (u'great product', 3.0),\n",
       " (u'SCREAMING FAST LAPTOP that works faster than I can type', 0.0),\n",
       " (u'Good', 0.0),\n",
       " (u\"I didn't like much this laptop, despite it has a good configuration (intel core i7 with 6gb RAM).It's not up to a Dell computer in terms of design. It's not beautiful.It's is extremally simple, it has not even a led on the panel. So that you don't know if it's on and if the HD is running.It has only a led on it's foot wich doesn't stays always on.It's NOT touch screen.It should be much better, since it's a 5th generation Dell computer.I had a Dell Vostro 3200 and it was much more beautiful than this Dell Inspiron 15.\",\n",
       "  8.0),\n",
       " (u\"If you ever need customer support, you won't get it.  If you buy this laptop, hope nothing ever goes wrong.  Or have hours available to wait on hold.  If you try to use the chat service more than 6 months after your purchase, you will be out of luck.  Just be prepared for &#34;We are experiencing higher than expected call volumes.&#34;\",\n",
       "  3.0),\n",
       " (u'Great lapto', 0.0),\n",
       " (u'The laptop has evident issues as it 1) turns off immediately upon being moved slightly (moving the screen a few degrees, shifting the laptop in your lap) 2) oftentimes refuses to turn on and, when it does, turns off immediately afterwards.Do not buy this laptop.',\n",
       "  0.0),\n",
       " (u'dont go for dell.It is worst. Its technical support is hell.you will experience hell talking to them and to get your laptop service',\n",
       "  -2.0),\n",
       " (u\"I wish I would have checked with Amazon before I purchased this make/model computer.  Instead I bought it at a big box store...big mistake.  If I had checked it out on the Amazon site I could have found out more information that I got from my big box store salesman.  First,on this model there is no backlight on the keyboard (my salesman said it had it...always check before you take a salesman's word as accurate.) Really, now days, almost all laptops have a lit keyboard.  I had a HP Pavilion 6 that got severely damaged and that is why I had to buy a new computer.  The HP had a brushed silver look...the Dell is solid black.  The Dell's touchpad is VERY flimsy.  I don't think it can possibly last very long.  It has a mushy feel and slow response when you tap it to scroll vertically and frequently freezes up if you try to scroll too fast. Also, it tends to stick to your finger when scrolling.  I had to put baby powder on my finger to prevent this and I don't know how well that will work in the long run.  In fact, I have purchased a wireless mouse to use for all scrolling.  I bought this Dell because it is one of the few remaining computers in this price range that has a DVD drive.  Most companies no longer include this type of drive as they are trying to lighten the weight and make the profile slimmer.Compared to the HP Pavilion that I had, this replacement Dell computer is a big disappointment especially for the price.\",\n",
       "  1.0),\n",
       " (u'a really nice laptop, works great and I love it! Opens webpages and applications lightning fast.The display is wonderful and the touchscreen is very sensitive. Save me a lot of time when i am having heavy workloads. Nice seller\\x1afast processing and shipping.',\n",
       "  13.0),\n",
       " (u'I bought this computer for personal use and school. I needed a computer with the right combination of specs so it would work efficiently and not slow up. I needed multiple windows open at once, and this computer worked with out missing a beat.For the price and specs, this computer is awesome. Dell did a great job with the combination of specs for it to run efficiently. I have had computers in the past that had fast processors and the combination of internal parts did not match so the computer was slow.This computer is an &#34;awesome buy&#34;.I would recommend this to a friend!',\n",
       "  3.0),\n",
       " (u'Super fast and smooth with a i7 processor. My favorite part is that the screen color is very bright and true to nature. Lightweight compared to other high end dell laptops. Good deal for the price.',\n",
       "  5.0),\n",
       " (u\"I was looking for a fast and high conf computer. I got this within my budget. This really fulfill my needs. Everything is perfect except you can't see any indicator which will say you if your computer is still running or it is shut down. Sound quality is really better than my previous laptop. I was running 4-5 tasks at a time. Still no performance drop. I love black color and it looks gorgeous in black. Typing is really cool. It's processor is 2.4 GHz with a turbo booster upto 3 GHz. Already got my Windows 10.  Overall, this laptop deserves a 5!\",\n",
       "  9.0),\n",
       " (u'really great laptop!', 3.0),\n",
       " (u\"Nice laptop. I got this laptop a week ago and love it! It works great for my use as a student. The windows 8.1 has taken a bit of getting used to but it doesn't bother me. The display is awesome and the touchscreen works great too! The processor is very fast, and the laptop makes virtually no noise at all--it doesn't even get hot!  If you are fond of gaming and Graphic intense work.Then leave this laptop as it has Intel HD 4400 Onboard Graphics and they arent that good when it comes to gaming,for any other kind of work this laptop is a piece of cake.\",\n",
       "  17.0),\n",
       " (u'high quality computer, love it so much. great seller, ships very fast!!!',\n",
       "  6.0)]"
      ]
     },
     "execution_count": 175,
     "metadata": {},
     "output_type": "execute_result"
    }
   ],
   "source": [
    "lmp"
   ]
  },
  {
   "cell_type": "code",
   "execution_count": 176,
   "metadata": {
    "collapsed": true
   },
   "outputs": [],
   "source": [
    "dictn={}\n",
    "dictn[item_ids]=lmp"
   ]
  },
  {
   "cell_type": "code",
   "execution_count": 177,
   "metadata": {
    "collapsed": false,
    "scrolled": true
   },
   "outputs": [
    {
     "data": {
      "text/plain": [
       "['I',\n",
       " 'bought',\n",
       " 'one',\n",
       " 'expecting',\n",
       " 'that',\n",
       " 'it',\n",
       " 'has',\n",
       " 'a',\n",
       " 'high-quality',\n",
       " 'performance',\n",
       " 'and',\n",
       " 'not',\n",
       " 'just',\n",
       " 'good',\n",
       " 'physical',\n",
       " 'attributes.',\n",
       " 'I',\n",
       " 'like',\n",
       " 'its',\n",
       " 'portability',\n",
       " 'since',\n",
       " 'I',\n",
       " 'could',\n",
       " 'easily',\n",
       " 'carry',\n",
       " 'it',\n",
       " 'around',\n",
       " 'wherever',\n",
       " 'I',\n",
       " 'want',\n",
       " 'to',\n",
       " 'work',\n",
       " 'and',\n",
       " 'it',\n",
       " 'looks',\n",
       " 'really',\n",
       " 'neat.',\n",
       " 'At',\n",
       " 'first,',\n",
       " \"everything's\",\n",
       " 'going',\n",
       " 'smoothly.',\n",
       " 'However,',\n",
       " 'on',\n",
       " 'my',\n",
       " \"laptop's\",\n",
       " 'second',\n",
       " 'month',\n",
       " 'I',\n",
       " 'noticed',\n",
       " 'that',\n",
       " 'at',\n",
       " 'times',\n",
       " 'it',\n",
       " 'freezes',\n",
       " 'and',\n",
       " 'it',\n",
       " 'takes',\n",
       " '15',\n",
       " 'to',\n",
       " '30',\n",
       " 'minutes',\n",
       " 'before',\n",
       " 'it',\n",
       " 'goes',\n",
       " 'back',\n",
       " 'to',\n",
       " 'normal.',\n",
       " 'If',\n",
       " 'given',\n",
       " 'the',\n",
       " 'chance,',\n",
       " \"I'd\",\n",
       " 'switch',\n",
       " 'this',\n",
       " 'to',\n",
       " 'other',\n",
       " 'model.']"
      ]
     },
     "execution_count": 177,
     "metadata": {},
     "output_type": "execute_result"
    }
   ],
   "source": [
    "str(dictn.values()[0][1][0]).split()"
   ]
  },
  {
   "cell_type": "code",
   "execution_count": 360,
   "metadata": {
    "collapsed": true
   },
   "outputs": [],
   "source": [
    "import nltk"
   ]
  },
  {
   "cell_type": "code",
   "execution_count": 361,
   "metadata": {
    "collapsed": false
   },
   "outputs": [
    {
     "name": "stdout",
     "output_type": "stream",
     "text": [
      "showing info http://www.nltk.org/nltk_data/\n"
     ]
    },
    {
     "data": {
      "text/plain": [
       "True"
      ]
     },
     "execution_count": 361,
     "metadata": {},
     "output_type": "execute_result"
    }
   ],
   "source": [
    "nltk.download()"
   ]
  },
  {
   "cell_type": "code",
   "execution_count": 387,
   "metadata": {
    "collapsed": false
   },
   "outputs": [
    {
     "ename": "ImportError",
     "evalue": "cannot import name subjectivity",
     "output_type": "error",
     "traceback": [
      "\u001b[1;31m---------------------------------------------------------------------------\u001b[0m",
      "\u001b[1;31mImportError\u001b[0m                               Traceback (most recent call last)",
      "\u001b[1;32m<ipython-input-387-e5c81e5ddf01>\u001b[0m in \u001b[0;36m<module>\u001b[1;34m()\u001b[0m\n\u001b[1;32m----> 1\u001b[1;33m \u001b[1;32mfrom\u001b[0m \u001b[0mnltk\u001b[0m\u001b[1;33m.\u001b[0m\u001b[0mcorpus\u001b[0m \u001b[1;32mimport\u001b[0m \u001b[0msubjectivity\u001b[0m\u001b[1;33m\u001b[0m\u001b[0m\n\u001b[0m",
      "\u001b[1;31mImportError\u001b[0m: cannot import name subjectivity"
     ]
    }
   ],
   "source": [
    "from nltk.corpus import subjectivity"
   ]
  },
  {
   "cell_type": "code",
   "execution_count": 388,
   "metadata": {
    "collapsed": true
   },
   "outputs": [],
   "source": [
    "import collections, itertools\n",
    "import nltk.classify.util, nltk.metrics\n",
    "from nltk.classify import NaiveBayesClassifier\n",
    "from nltk.corpus import movie_reviews, stopwords\n",
    "from nltk.collocations import BigramCollocationFinder\n",
    "from nltk.metrics import BigramAssocMeasures\n",
    "from nltk.probability import FreqDist, ConditionalFreqDist"
   ]
  },
  {
   "cell_type": "code",
   "execution_count": null,
   "metadata": {
    "collapsed": true
   },
   "outputs": [],
   "source": []
  },
  {
   "cell_type": "code",
   "execution_count": 385,
   "metadata": {
    "collapsed": false
   },
   "outputs": [],
   "source": [
    "from nltk.classify import NaiveBayesClassifier"
   ]
  },
  {
   "cell_type": "code",
   "execution_count": 386,
   "metadata": {
    "collapsed": false,
    "scrolled": true
   },
   "outputs": [],
   "source": [
    "from nltk.corpus import sentiwordnet as swn"
   ]
  },
  {
   "cell_type": "code",
   "execution_count": 373,
   "metadata": {
    "collapsed": false
   },
   "outputs": [
    {
     "name": "stdout",
     "output_type": "stream",
     "text": [
      "<happy.a.01: PosScore=0.875 NegScore=0.0>\n"
     ]
    }
   ],
   "source": [
    "happy = swn.senti_synsets('happy', 'a')[0]\n",
    "print happy"
   ]
  },
  {
   "cell_type": "code",
   "execution_count": 374,
   "metadata": {
    "collapsed": false
   },
   "outputs": [
    {
     "name": "stdout",
     "output_type": "stream",
     "text": [
      "<hate.n.01: PosScore=0.125 NegScore=0.375>\n"
     ]
    }
   ],
   "source": [
    "sad = swn.senti_synsets('hate', 'n')[0]\n",
    "print sad"
   ]
  },
  {
   "cell_type": "code",
   "execution_count": 375,
   "metadata": {
    "collapsed": true
   },
   "outputs": [],
   "source": [
    "sentence = \"\"\"At eight o'clock on Thursday morning\n",
    "... Arthur didn't feel very good.\"\"\""
   ]
  },
  {
   "cell_type": "code",
   "execution_count": 377,
   "metadata": {
    "collapsed": true
   },
   "outputs": [],
   "source": [
    "tokens = nltk.word_tokenize(sentence)\n",
    "tagged = nltk.pos_tag(tokens)"
   ]
  },
  {
   "cell_type": "code",
   "execution_count": 378,
   "metadata": {
    "collapsed": true
   },
   "outputs": [],
   "source": [
    "entities = nltk.chunk.ne_chunk(tagged)"
   ]
  },
  {
   "cell_type": "code",
   "execution_count": 379,
   "metadata": {
    "collapsed": false
   },
   "outputs": [
    {
     "data": {
      "image/png": "[encoded data removed]",
      "text/plain": [
       "Tree('S', [('At', 'IN'), ('eight', 'CD'), (\"o'clock\", 'JJ'), ('on', 'IN'), ('Thursday', 'NNP'), ('morning', 'NN'), Tree('PERSON', [('Arthur', 'NNP')]), ('did', 'VBD'), (\"n't\", 'RB'), ('feel', 'VB'), ('very', 'RB'), ('good', 'JJ'), ('.', '.')])"
      ]
     },
     "execution_count": 379,
     "metadata": {},
     "output_type": "execute_result"
    }
   ],
   "source": [
    "entities"
   ]
  },
  {
   "cell_type": "code",
   "execution_count": 380,
   "metadata": {
    "collapsed": true
   },
   "outputs": [],
   "source": [
    "from nltk.corpus import treebank"
   ]
  },
  {
   "cell_type": "code",
   "execution_count": 381,
   "metadata": {
    "collapsed": true
   },
   "outputs": [],
   "source": [
    "t = treebank.parsed_sents('wsj_0001.mrg')[0]"
   ]
  },
  {
   "cell_type": "code",
   "execution_count": 382,
   "metadata": {
    "collapsed": true
   },
   "outputs": [],
   "source": [
    "t.draw()"
   ]
  },
  {
   "cell_type": "code",
   "execution_count": 365,
   "metadata": {
    "collapsed": false
   },
   "outputs": [
    {
     "name": "stdout",
     "output_type": "stream",
     "text": [
      "*** Introductory Examples for the NLTK Book ***\n",
      "Loading text1, ..., text9 and sent1, ..., sent9\n",
      "Type the name of the text or sentence to view it.\n",
      "Type: 'texts()' or 'sents()' to list the materials.\n",
      "text1: Moby Dick by Herman Melville 1851\n",
      "text2: Sense and Sensibility by Jane Austen 1811\n",
      "text3: The Book of Genesis\n",
      "text4: Inaugural Address Corpus\n",
      "text5: Chat Corpus\n",
      "text6: Monty Python and the Holy Grail\n",
      "text7: Wall Street Journal\n",
      "text8: Personals Corpus\n",
      "text9: The Man Who Was Thursday by G . K . Chesterton 1908\n"
     ]
    }
   ],
   "source": [
    "from nltk.book import *"
   ]
  },
  {
   "cell_type": "code",
   "execution_count": 367,
   "metadata": {
    "collapsed": false
   },
   "outputs": [
    {
     "data": {
      "text/plain": [
       "[u'The', u'Fulton', u'County', u'Grand', u'Jury', ...]"
      ]
     },
     "execution_count": 367,
     "metadata": {},
     "output_type": "execute_result"
    }
   ],
   "source": [
    "from nltk.corpus import brown\n",
    "brown.words()"
   ]
  },
  {
   "cell_type": "code",
   "execution_count": 391,
   "metadata": {
    "collapsed": false
   },
   "outputs": [
    {
     "ename": "IOError",
     "evalue": "[Errno 2] No such file or directory: '/path/to/NAME_OF_CLASSIFIER.pickle'",
     "output_type": "error",
     "traceback": [
      "\u001b[1;31m---------------------------------------------------------------------------\u001b[0m",
      "\u001b[1;31mIOError\u001b[0m                                   Traceback (most recent call last)",
      "\u001b[1;32m<ipython-input-391-1edf39a9b9b0>\u001b[0m in \u001b[0;36m<module>\u001b[1;34m()\u001b[0m\n\u001b[0;32m      1\u001b[0m \u001b[1;32mimport\u001b[0m \u001b[0mpickle\u001b[0m\u001b[1;33m\u001b[0m\u001b[0m\n\u001b[1;32m----> 2\u001b[1;33m \u001b[0mclassifier\u001b[0m \u001b[1;33m=\u001b[0m \u001b[0mpickle\u001b[0m\u001b[1;33m.\u001b[0m\u001b[0mload\u001b[0m\u001b[1;33m(\u001b[0m\u001b[0mopen\u001b[0m\u001b[1;33m(\u001b[0m\u001b[1;34m\"/path/to/NAME_OF_CLASSIFIER.pickle\"\u001b[0m\u001b[1;33m)\u001b[0m\u001b[1;33m)\u001b[0m\u001b[1;33m\u001b[0m\u001b[0m\n\u001b[0m",
      "\u001b[1;31mIOError\u001b[0m: [Errno 2] No such file or directory: '/path/to/NAME_OF_CLASSIFIER.pickle'"
     ]
    }
   ],
   "source": [
    "import pickle\n",
    "classifier = pickle.load(open(\"/path/to/NAME_OF_CLASSIFIER.pickle\"))"
   ]
  },
  {
   "cell_type": "code",
   "execution_count": null,
   "metadata": {
    "collapsed": true
   },
   "outputs": [],
   "source": []
  },
  {
   "cell_type": "code",
   "execution_count": 179,
   "metadata": {
    "collapsed": false
   },
   "outputs": [],
   "source": [
    "avg = sum(afn)/len(afn)"
   ]
  },
  {
   "cell_type": "code",
   "execution_count": 182,
   "metadata": {
    "collapsed": false
   },
   "outputs": [
    {
     "data": {
      "text/plain": [
       "3.1"
      ]
     },
     "execution_count": 182,
     "metadata": {},
     "output_type": "execute_result"
    }
   ],
   "source": [
    "avg"
   ]
  },
  {
   "cell_type": "code",
   "execution_count": null,
   "metadata": {
    "collapsed": true
   },
   "outputs": [],
   "source": []
  },
  {
   "cell_type": "code",
   "execution_count": null,
   "metadata": {
    "collapsed": true
   },
   "outputs": [],
   "source": []
  },
  {
   "cell_type": "code",
   "execution_count": 250,
   "metadata": {
    "collapsed": false,
    "scrolled": true
   },
   "outputs": [
    {
     "data": {
      "text/plain": [
       "-2.0"
      ]
     },
     "execution_count": 250,
     "metadata": {},
     "output_type": "execute_result"
    }
   ],
   "source": [
    "dictn.items()[0][1][0][1]"
   ]
  },
  {
   "cell_type": "code",
   "execution_count": 237,
   "metadata": {
    "collapsed": false
   },
   "outputs": [],
   "source": [
    "i = 0"
   ]
  },
  {
   "cell_type": "code",
   "execution_count": 239,
   "metadata": {
    "collapsed": false
   },
   "outputs": [
    {
     "data": {
      "text/plain": [
       "-2.0"
      ]
     },
     "execution_count": 239,
     "metadata": {},
     "output_type": "execute_result"
    }
   ],
   "source": [
    "dictn.values()[0][0][1]"
   ]
  },
  {
   "cell_type": "code",
   "execution_count": 241,
   "metadata": {
    "collapsed": false
   },
   "outputs": [],
   "source": [
    "##### Find the list of tuple which contains 'touch' word\n",
    "\n",
    "mp = []\n",
    "for i in range(len(dictn.values()[0])):\n",
    "    lst = str(dictn.values()[0][i][0]).lower()\n",
    "    if re.findall(r'touch\\S*', lst):\n",
    "        tup=(lst,dictn.values()[0][i][1])\n",
    "        mp.append(tup)\n",
    "            "
   ]
  },
  {
   "cell_type": "code",
   "execution_count": null,
   "metadata": {
    "collapsed": false
   },
   "outputs": [],
   "source": []
  },
  {
   "cell_type": "code",
   "execution_count": 392,
   "metadata": {
    "collapsed": false
   },
   "outputs": [
    {
     "name": "stdout",
     "output_type": "stream",
     "text": [
      "train on 1500 instances, test on 500 instances\n",
      "accuracy: 0.728\n",
      "Most Informative Features\n",
      "             magnificent = True              pos : neg    =     15.0 : 1.0\n",
      "             outstanding = True              pos : neg    =     13.6 : 1.0\n",
      "               insulting = True              neg : pos    =     13.0 : 1.0\n",
      "              vulnerable = True              pos : neg    =     12.3 : 1.0\n",
      "               ludicrous = True              neg : pos    =     11.8 : 1.0\n",
      "                  avoids = True              pos : neg    =     11.7 : 1.0\n",
      "             uninvolving = True              neg : pos    =     11.7 : 1.0\n",
      "              astounding = True              pos : neg    =     10.3 : 1.0\n",
      "             fascination = True              pos : neg    =     10.3 : 1.0\n",
      "                 idiotic = True              neg : pos    =      9.8 : 1.0\n"
     ]
    }
   ],
   "source": [
    "def word_feats(words):\n",
    "    return dict([(word, True) for word in words])\n",
    " \n",
    "negids = movie_reviews.fileids('neg')\n",
    "posids = movie_reviews.fileids('pos')\n",
    " \n",
    "negfeats = [(word_feats(movie_reviews.words(fileids=[f])), 'neg') for f in negids]\n",
    "posfeats = [(word_feats(movie_reviews.words(fileids=[f])), 'pos') for f in posids]\n",
    " \n",
    "negcutoff = len(negfeats)*3/4\n",
    "poscutoff = len(posfeats)*3/4\n",
    " \n",
    "trainfeats = negfeats[:negcutoff] + posfeats[:poscutoff]\n",
    "testfeats = negfeats[negcutoff:] + posfeats[poscutoff:]\n",
    "print 'train on %d instances, test on %d instances' % (len(trainfeats), len(testfeats))\n",
    " \n",
    "classifier = NaiveBayesClassifier.train(trainfeats)\n",
    "print 'accuracy:', nltk.classify.util.accuracy(classifier, testfeats)\n",
    "classifier.show_most_informative_features()"
   ]
  },
  {
   "cell_type": "code",
   "execution_count": 395,
   "metadata": {
    "collapsed": false
   },
   "outputs": [
    {
     "name": "stdout",
     "output_type": "stream",
     "text": [
      "Apple_PID.txt   B00VGNZ4PG.txt  B014V3V9J2.txt        items.txt\r\n",
      "B004KZJ0UM.txt  B00VJ1P7TS.txt  B015JVB9C2.txt        items.txt~\r\n",
      "B0060MVLXC.txt  B00VKL0I96.txt  B015JVBD64.txt        \u001b[0m\u001b[01;34mjson\u001b[0m/\r\n",
      "B007ED7ZDG.txt  B00XPUUGDI.txt  B015JVCD8G.txt        \u001b[01;34mmain\u001b[0m/\r\n",
      "B00FF6J532.txt  B00YD1OQ1G.txt  B015P3SH9W.txt        MS_PID.txt\r\n",
      "B00IB04M5K.txt  B00Z1R85O0.txt  B015PYYDMQ.txt        Project.ipynb\r\n",
      "B00IU745S8.txt  B00ZOLT5YC.txt  B015PYZXRU.txt        README.md\r\n",
      "B00K4PATO8.txt  B00ZOO1RFO.txt  B015XK21W6.txt        rev0.json\r\n",
      "B00KMRGF28.txt  B00ZS64K7K.txt  B01606KJ6C.txt        rev0.json~\r\n",
      "B00NJNE6AA.txt  B010DOD2G6.txt  B01617UJII.txt        \u001b[01;34mReviews\u001b[0m/\r\n",
      "B00PGELA04.txt  B010DODAWM.txt  B0163GQJOU.txt        \u001b[01;34mtemp\u001b[0m/\r\n",
      "B00RY4X8A4.txt  B011KFQASE.txt  Classification.ipynb  temp.txt\r\n",
      "B00THEP15O.txt  B011N5HFOE.txt  Dell_PID.txt          twitter.cfg\r\n",
      "B00U8DHPX4.txt  B012BPRLO4.txt  \u001b[01;34mhparik11-asg\u001b[0m/         Untitled1.ipynb\r\n",
      "B00UA3XFS6.txt  B013PK8LGQ.txt  hp.json               Untitled2.ipynb\r\n",
      "B00V2KX5JA.txt  B014B9IS1S.txt  hp.json~              Untitled.ipynb\r\n"
     ]
    }
   ],
   "source": [
    "ls"
   ]
  },
  {
   "cell_type": "code",
   "execution_count": 397,
   "metadata": {
    "collapsed": false,
    "scrolled": true
   },
   "outputs": [
    {
     "name": "stdout",
     "output_type": "stream",
     "text": [
      "35\n",
      "Product ID: B013PK8LGQ \tNumber of reviews: 18\n",
      "Product ID: B004KZJ0UM \tNumber of reviews: 100\n",
      "Product ID: B00ZOO1RFO \tNumber of reviews: 76\n",
      "Product ID: B012BPRLO4 \tNumber of reviews: 3\n",
      "Product ID: B00PGELA04 \tNumber of reviews: 46\n",
      "Product ID: B011KFQASE \tNumber of reviews: 100\n",
      "Product ID: B00Z1R85O0 \tNumber of reviews: 15\n",
      "Product ID: B00VGNZ4PG \tNumber of reviews: 50\n",
      "Product ID: B00THEP15O \tNumber of reviews: 55\n",
      "Product ID: B00VJ1P7TS \tNumber of reviews: 27\n",
      "Product ID: B014V3V9J2 \tNumber of reviews: 2\n",
      "Product ID: B015PYZXRU \tNumber of reviews: 39\n",
      "Product ID: B00VKL0I96 \tNumber of reviews: 39\n",
      "Product ID: B00XPUUGDI \tNumber of reviews: 74\n",
      "Product ID: B00V2KX5JA \tNumber of reviews: 8\n",
      "Product ID: B00RY4X8A4 \tNumber of reviews: 100\n",
      "Product ID: B00ZS64K7K \tNumber of reviews: 23\n",
      "Product ID: B00FF6J532 \tNumber of reviews: 51\n",
      "Product ID: B00K4PATO8 \tNumber of reviews: 100\n",
      "Product ID: B00IU745S8 \tNumber of reviews: 50\n",
      "Product ID: B0163GQJOU \tNumber of reviews: 10\n",
      "Product ID: B00NJNE6AA \tNumber of reviews: 99\n",
      "Product ID: B015JVBD64 \tNumber of reviews: 39\n",
      "Product ID: B00YD1OQ1G \tNumber of reviews: 38\n",
      "Product ID: B00U8DHPX4 \tNumber of reviews: 60\n",
      "Product ID: B011N5HFOE \tNumber of reviews: 8\n",
      "Product ID: B014B9IS1S \tNumber of reviews: 6\n",
      "Product ID: B015JVB9C2 \tNumber of reviews: 30\n",
      "Product ID: B015P3SH9W \tNumber of reviews: 59\n",
      "Product ID: B010DODAWM \tNumber of reviews: 37\n",
      "Product ID: B01606KJ6C \tNumber of reviews: 49\n",
      "Product ID: B00IB04M5K \tNumber of reviews: 79\n",
      "Product ID: B010DOD2G6 \tNumber of reviews: 30\n",
      "Product ID: B00ZOLT5YC \tNumber of reviews: 100\n",
      "Product ID: B00KMRGF28 \tNumber of reviews: 100\n",
      "Counter({100: 6, 39: 3, 8: 2, 30: 2, 50: 2, 2: 1, 3: 1, 6: 1, 10: 1, 15: 1, 18: 1, 23: 1, 27: 1, 37: 1, 38: 1, 46: 1, 49: 1, 51: 1, 55: 1, 59: 1, 60: 1, 74: 1, 76: 1, 79: 1, 99: 1})\n"
     ]
    }
   ],
   "source": [
    "%run \"Classification.ipynb\""
   ]
  },
  {
   "cell_type": "code",
   "execution_count": 400,
   "metadata": {
    "collapsed": false,
    "scrolled": true
   },
   "outputs": [
    {
     "data": {
      "text/plain": [
       "[u'B011N5HFOE',\n",
       " u'B004KZJ0UM',\n",
       " u'B00ZOO1RFO',\n",
       " u'B012BPRLO4',\n",
       " u'B00PGELA04',\n",
       " u'B011KFQASE',\n",
       " u'B00Z1R85O0',\n",
       " u'B00VGNZ4PG',\n",
       " u'B015P3SH9W',\n",
       " u'B00VJ1P7TS',\n",
       " u'B014V3V9J2',\n",
       " u'B015PYZXRU',\n",
       " u'B00VKL0I96',\n",
       " u'B00XPUUGDI',\n",
       " u'B00V2KX5JA',\n",
       " u'B00RY4X8A4',\n",
       " u'B00ZS64K7K',\n",
       " u'B00FF6J532',\n",
       " u'B00K4PATO8',\n",
       " u'B00IU745S8',\n",
       " u'B0163GQJOU',\n",
       " u'B00NJNE6AA',\n",
       " u'B015JVBD64',\n",
       " u'B00YD1OQ1G',\n",
       " u'B00U8DHPX4',\n",
       " u'B013PK8LGQ',\n",
       " u'B014B9IS1S',\n",
       " u'B015JVB9C2',\n",
       " u'B00THEP15O',\n",
       " u'B010DODAWM',\n",
       " u'B01606KJ6C',\n",
       " u'B00IB04M5K',\n",
       " u'B010DOD2G6',\n",
       " u'B00ZOLT5YC',\n",
       " u'B00KMRGF28']"
      ]
     },
     "execution_count": 400,
     "metadata": {},
     "output_type": "execute_result"
    }
   ],
   "source": [
    "item_ids"
   ]
  },
  {
   "cell_type": "code",
   "execution_count": null,
   "metadata": {
    "collapsed": false
   },
   "outputs": [],
   "source": []
  }
 ],
 "metadata": {
  "kernelspec": {
   "display_name": "Python 2",
   "language": "python",
   "name": "python2"
  },
  "language_info": {
   "codemirror_mode": {
    "name": "ipython",
    "version": 2
   },
   "file_extension": ".py",
   "mimetype": "text/x-python",
   "name": "python",
   "nbconvert_exporter": "python",
   "pygments_lexer": "ipython2",
   "version": "2.7.10"
  }
 },
 "nbformat": 4,
 "nbformat_minor": 0
}
