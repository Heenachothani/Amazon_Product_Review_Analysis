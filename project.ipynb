{
 "cells": [
  {
   "cell_type": "code",
   "execution_count": 251,
   "metadata": {
    "collapsed": true
   },
   "outputs": [],
   "source": [
    "# All Imports\n",
    "from collections import Counter\n",
    "from operator import itemgetter\n",
    "import ConfigParser\n",
    "import matplotlib.pyplot as plt\n",
    "import networkx as nx\n",
    "import sys\n",
    "import time\n",
    "import io\n",
    "import os\n",
    "import re\n",
    "import nltk\n",
    "import string\n",
    "import shutil\n",
    "import hashlib\n",
    "from sklearn.cross_validation import KFold\n",
    "from sklearn.feature_extraction.text import CountVectorizer\n",
    "from sklearn.linear_model import LogisticRegression\n",
    "from sklearn.metrics import accuracy_score\n",
    "#nltk.download()\n",
    "from tabulate import tabulate\n",
    "from nltk.corpus import sentiwordnet\n",
    "from nltk.corpus import SentiWordNetCorpusReader, SentiSynset\n",
    "import pylab as plt\n",
    "import numpy as np\n",
    "import scipy.stats as stats\n",
    "import pylab as pl\n",
    "%matplotlib inline\n",
    "swn_root = './'\n",
    "swn_filename = 'SentiWordNet_3.0.0_20130122.txt'\n",
    "swn = SentiWordNetCorpusReader(swn_root,swn_filename,encoding='utf-8')"
   ]
  },
  {
   "cell_type": "code",
   "execution_count": 2,
   "metadata": {
    "collapsed": true
   },
   "outputs": [],
   "source": [
    "# Converts a file to list of strings where each item is one line of the file.\n",
    "def file2string(filename):\n",
    "    result = []\n",
    "    result = io.open(filename, encoding='utf8').readlines()\n",
    "    for val in range(0,len(result)):\n",
    "        result[val]=re.sub(\"\\n\",\"\",result[val])        \n",
    "    return result"
   ]
  },
  {
   "cell_type": "code",
   "execution_count": 70,
   "metadata": {
    "collapsed": false
   },
   "outputs": [
    {
     "name": "stdout",
     "output_type": "stream",
     "text": [
      "Created product dictionary with 42 products\n"
     ]
    }
   ],
   "source": [
    "#Create a dictionary with product id as key and item title and manufacturer tuple as value taking a file as input\n",
    "def productsDictionary(productsfile):\n",
    "    productlst = file2string(productsfile)\n",
    "    result = {}\n",
    "    for product in productlst:\n",
    "        temp = product.split(\"\\t\")\n",
    "        result[temp[0]]=(temp[1],temp[2])\n",
    "    return result\n",
    "\n",
    "product_dictionary = productsDictionary(\"items.txt\")\n",
    "print \"Created product dictionary with\",len(product_dictionary.keys()),\"products\""
   ]
  },
  {
   "cell_type": "code",
   "execution_count": 71,
   "metadata": {
    "collapsed": true
   },
   "outputs": [],
   "source": [
    "def calculateSynsetScore(review):\n",
    "    tokens = nltk.word_tokenize(review)\n",
    "    score = 0\n",
    "    for t in tokens:\n",
    "        try:\n",
    "            synset = swn.senti_synsets(t)[0]\n",
    "            #print t,\"\\t\",synset\n",
    "            score = score + synset.pos_score() - synset.neg_score()\n",
    "        except(IndexError):\n",
    "            #print \"Index error at:\", t\n",
    "            pass\n",
    "    return score"
   ]
  },
  {
   "cell_type": "code",
   "execution_count": 88,
   "metadata": {
    "collapsed": false
   },
   "outputs": [],
   "source": [
    "# preprocess the review data\n",
    "\n",
    "\n",
    "# URLs\n",
    "regURL = re.compile(r\"http\\S+\")\n",
    "\n",
    "# Spliting by word boundaries\n",
    "regWordbound = re.compile(r\"\\W+\")\n",
    "\n",
    "# Replace Repeating words like gooooooooood \n",
    "\n",
    "regRepeat = re.compile(r\"(.)\\1{1,}\", re.IGNORECASE);\n",
    "\n",
    "def replace_repeat(match):\n",
    "    return match.group(1)+match.group(1)\n",
    "\n",
    "# Emoticons\n",
    "#replacing emoticons, you can specify any name\n",
    "\n",
    "emoticons = [('', [':-)', ':)', '(:', '(-:', ':-D', ':D', 'X-D', 'XD', 'xD', '<3', ':\\*', ';-)', ';)', ';-D', ';D', '(;', '(-;', ':-(', ':(', '(:', '(-:', ':,(', ':\\'(', ':\"(', ':(('] )]\n",
    "\n",
    "\n",
    "punct_list = []\n",
    "\n",
    "for i in string.punctuation:\n",
    "    punct_list.append(i)\n",
    "    \n",
    "# Punctuations\n",
    "punctuations = \\\n",
    "    [   #Classify all punctuation as same\n",
    "        #you can control which punctuation to use by creating new punctuation list\n",
    "        #i have stripped down all the punctuations, you can put something in that blank\n",
    "        ('',punct_list ),\\\n",
    "    ]\n",
    "\n",
    "\n",
    "    \n",
    "#For emoticon regexes\n",
    "\n",
    "def escape_paren(arr):\n",
    "    return [review.replace(')', '[)}\\]]').replace('(', '[({\\[]') for review in arr]\n",
    "\n",
    "def regUnion(arr):\n",
    "    return '(' + '|'.join( arr ) + ')'\n",
    "\n",
    "regEmoticons = [ (repl, re.compile(regUnion(escape_paren(regx))) ) \\\n",
    "                    for (repl, regx) in emoticons ]\n",
    "\n",
    "\n",
    "#For punctuation replacement\n",
    "def replace_punctuations(match):\n",
    "    review = match.group(0)\n",
    "    repl = []\n",
    "    for (key, parr) in punctuations :\n",
    "        for punc in parr :\n",
    "            if punc in review:\n",
    "                repl.append(key)\n",
    "    if( len(repl)>0 ) :\n",
    "        return ' ' + ' '.join(repl) + ' '\n",
    "    else :\n",
    "        return ' '\n",
    "\n",
    "\n",
    "def preprocessUrls(review, subject='', query=[]):\n",
    "    return re.sub( regURL, '', review )\n",
    "\n",
    "def preprocessEmoticons(review, subject='', query=[]):\n",
    "    for (repl, regx) in regEmoticons :\n",
    "        review = re.sub(regx, ' '+repl+' ', review)\n",
    "    return review\n",
    "\n",
    "def preprocessPunctuations( review, subject='', query=[]):\n",
    "    return re.sub( regWordbound , replace_punctuations, review )\n",
    "\n",
    "def preprocessRepeatings(review, subject='', query=[]):\n",
    "    return re.sub( regRepeat, replace_repeat, review )\n",
    "\n",
    "\n",
    "def processAll(review, subject='', query=[]):\n",
    "\n",
    "    if(len(query)>0):\n",
    "        query_regex = \"|\".join([ re.escape(q) for q in query])\n",
    "        review = re.sub( query_regex, '', review, flags=re.IGNORECASE )\n",
    "    \n",
    "    review = re.sub( regURL, '', review )\n",
    "    \n",
    "\n",
    "    for (repl, regx) in regEmoticons :\n",
    "        review = re.sub(regx, ' '+repl+' ', review)\n",
    "\n",
    "\n",
    "    review = review.replace('\\'',' ')\n",
    "\n",
    "    #replcae underscore with space\n",
    "    review = review.replace('_',' ')\n",
    "    \n",
    "\n",
    "    review = re.sub( regWordbound , replace_punctuations, review )\n",
    "    review = re.sub( regRepeat, replace_repeat, review )\n",
    "    \n",
    "    review = review.lower()\n",
    "    \n",
    "    list = review.split()\n",
    "    for i,token in enumerate(list):\n",
    "        if token == 'not':\n",
    "            \n",
    "            if i+1 < len(list):\n",
    "                list[i+1] = 'not_' + list[i+1]\n",
    "    \n",
    "    return ' '.join(list)"
   ]
  },
  {
   "cell_type": "code",
   "execution_count": 89,
   "metadata": {
    "collapsed": false
   },
   "outputs": [
    {
     "data": {
      "text/plain": [
       "'this would not be replaced. '"
      ]
     },
     "execution_count": 89,
     "metadata": {},
     "output_type": "execute_result"
    }
   ],
   "source": [
    "#Replace the word which contains n't i.e wouldn't,shouldn't  \n",
    "#   with  would not, should not and return the string.   \n",
    "\n",
    "def replace_with_not(string):\n",
    "    ns = \"\"\n",
    "    suffix = \"n't\"\n",
    "    word = \"not\"\n",
    "    for stn in string.split():\n",
    "        if stn.endswith(suffix):\n",
    "            stn = stn[:-3]\n",
    "            ns += stn + ' ' + word + ' '\n",
    "        else:\n",
    "            ns += stn + ' '\n",
    "    return ns\n",
    "    \n",
    "replace_with_not(\"this wouldn't be replaced.\")"
   ]
  },
  {
   "cell_type": "code",
   "execution_count": 90,
   "metadata": {
    "collapsed": true
   },
   "outputs": [],
   "source": [
    "# Reads a file named (productID).txt and returns a list of all reviews present in that file for the given productID\n",
    "def getAllReviews(productID):\n",
    "    reviews = file2string(\"Reviews_Data/\"+ productID+\".txt\") \n",
    "    result = []\n",
    "    for review_line in reviews:\n",
    "        #print review.split(\"->\")[1],\"\\n\"\n",
    "        review = review_line.split(\"->\")[1]\n",
    "        r1 = processAll(review)\n",
    "        review = replace_with_not(r1)\n",
    "        score = calculateSynsetScore(review)\n",
    "        result.append((review,score))\n",
    "    return result"
   ]
  },
  {
   "cell_type": "code",
   "execution_count": 91,
   "metadata": {
    "collapsed": false
   },
   "outputs": [
    {
     "name": "stdout",
     "output_type": "stream",
     "text": [
      "Reading reviews for Product ID: B011N5HFOE \tNumber of total reviews: 8\n",
      "Reading reviews for Product ID: B004KZJ0UM \tNumber of total reviews: 316\n",
      "Reading reviews for Product ID: B00ZOO1RFO \tNumber of total reviews: 76\n",
      "Reading reviews for Product ID: B00K6ZIL0K \tNumber of total reviews: 22\n",
      "Reading reviews for Product ID: B012BPRLO4 \tNumber of total reviews: 3\n",
      "Reading reviews for Product ID: B00PGELA04 \tNumber of total reviews: 46\n",
      "Reading reviews for Product ID: B00HRO37UC \tNumber of total reviews: 53\n",
      "Reading reviews for Product ID: B011KFQASE \tNumber of total reviews: 100\n",
      "Reading reviews for Product ID: B00PPTP9IO \tNumber of total reviews: 92\n",
      "Reading reviews for Product ID: B00Z1R85O0 \tNumber of total reviews: 15\n",
      "Reading reviews for Product ID: B00VGNZ4PG \tNumber of total reviews: 50\n",
      "Reading reviews for Product ID: B015P3SH9W \tNumber of total reviews: 59\n",
      "Reading reviews for Product ID: B00VJ1P7TS \tNumber of total reviews: 27\n",
      "Reading reviews for Product ID: B01606KJ6C \tNumber of total reviews: 49\n",
      "Reading reviews for Product ID: B015PYZXRU \tNumber of total reviews: 39\n",
      "Reading reviews for Product ID: B00VKL0I96 \tNumber of total reviews: 39\n",
      "Reading reviews for Product ID: B00XPUUGDI \tNumber of total reviews: 74\n",
      "Reading reviews for Product ID: B00V2KX5JA \tNumber of total reviews: 74\n",
      "Reading reviews for Product ID: B00MMLW3X2 \tNumber of total reviews: 100\n",
      "Reading reviews for Product ID: B00KDI9C4O \tNumber of total reviews: 52\n",
      "Reading reviews for Product ID: B00RY4X8A4 \tNumber of total reviews: 100\n",
      "Reading reviews for Product ID: B00ZS64K7K \tNumber of total reviews: 23\n",
      "Reading reviews for Product ID: B00X9KPSKK \tNumber of total reviews: 73\n",
      "Reading reviews for Product ID: B00FF6J532 \tNumber of total reviews: 244\n",
      "Reading reviews for Product ID: B00K4PATO8 \tNumber of total reviews: 100\n",
      "Reading reviews for Product ID: B00IU745S8 \tNumber of total reviews: 85\n",
      "Reading reviews for Product ID: B0163GQJOU \tNumber of total reviews: 10\n",
      "Reading reviews for Product ID: B00NJNE6AA \tNumber of total reviews: 99\n",
      "Reading reviews for Product ID: B015JVBD64 \tNumber of total reviews: 39\n",
      "Reading reviews for Product ID: B00N9ERISQ \tNumber of total reviews: 51\n",
      "Reading reviews for Product ID: B00K4PAV5U \tNumber of total reviews: 74\n",
      "Reading reviews for Product ID: B00YD1OQ1G \tNumber of total reviews: 38\n",
      "Reading reviews for Product ID: B00U8DHPX4 \tNumber of total reviews: 60\n",
      "Reading reviews for Product ID: B013PK8LGQ \tNumber of total reviews: 18\n",
      "Reading reviews for Product ID: B014B9IS1S \tNumber of total reviews: 6\n",
      "Reading reviews for Product ID: B015JVB9C2 \tNumber of total reviews: 30\n",
      "Reading reviews for Product ID: B00THEP15O \tNumber of total reviews: 55\n",
      "Reading reviews for Product ID: B010DODAWM \tNumber of total reviews: 37\n",
      "Reading reviews for Product ID: B00IB04M5K \tNumber of total reviews: 79\n",
      "Reading reviews for Product ID: B010DOD2G6 \tNumber of total reviews: 30\n",
      "Reading reviews for Product ID: B00ZOLT5YC \tNumber of total reviews: 100\n",
      "Reading reviews for Product ID: B00KMRGF28 \tNumber of total reviews: 100\n",
      "\n",
      "Counter({100: 6, 39: 3, 74: 3, 30: 2, 3: 1, 6: 1, 8: 1, 10: 1, 15: 1, 18: 1, 22: 1, 23: 1, 27: 1, 37: 1, 38: 1, 46: 1, 49: 1, 50: 1, 51: 1, 52: 1, 53: 1, 55: 1, 59: 1, 316: 1, 73: 1, 76: 1, 79: 1, 85: 1, 92: 1, 99: 1, 60: 1, 244: 1})\n"
     ]
    }
   ],
   "source": [
    "#Create a dictionary with product id as key and list of its reviews as value.\n",
    "\n",
    "product_ids = product_dictionary.keys()\n",
    "product_reviews = {}\n",
    "\n",
    "for id in product_ids:\n",
    "    reviews = getAllReviews(id)\n",
    "    product_reviews[id]=reviews;\n",
    "    print \"Reading reviews for Product ID:\",id,\"\\tNumber of total reviews:\",len(reviews)\n",
    "\n",
    "cnt = Counter()\n",
    "for key in product_reviews.keys():\n",
    "    #print \"Product ID:\",key,\"\\tNumber of reviews:\",len(product_reviews[key])\n",
    "    cnt[len(product_reviews[key])]+=1\n",
    "print \"\\n\",cnt"
   ]
  },
  {
   "cell_type": "code",
   "execution_count": null,
   "metadata": {
    "collapsed": false
   },
   "outputs": [],
   "source": []
  },
  {
   "cell_type": "code",
   "execution_count": 77,
   "metadata": {
    "collapsed": false,
    "scrolled": true
   },
   "outputs": [
    {
     "name": "stdout",
     "output_type": "stream",
     "text": [
      "╒══════════════╤════════════════════════════════════════════════════════════════════════════╤═══════════════════╕\n",
      "│ Product ID   │ Product Title                                                              │  Sentiment Score  │\n",
      "╞══════════════╪════════════════════════════════════════════════════════════════════════════╪═══════════════════╡\n",
      "│ B00FF6J532   │ Microsoft Surface 2 (32 GB)                                                │      1.87577      │\n",
      "├──────────────┼────────────────────────────────────────────────────────────────────────────┼───────────────────┤\n",
      "│ B015P3SH9W   │ Dell Inspiron i7359-6790SLV 2-in-1 Touchscreen Laptop                      │      1.76483      │\n",
      "├──────────────┼────────────────────────────────────────────────────────────────────────────┼───────────────────┤\n",
      "│ B00IU745S8   │ G-Tab Iota Quad Core Android Tablet PC                                     │      1.43676      │\n",
      "├──────────────┼────────────────────────────────────────────────────────────────────────────┼───────────────────┤\n",
      "│ B014B9IS1S   │ 2015 Newest Dell Chromebook, 11.6 inch HD Non-Touch LCD                    │      1.27083      │\n",
      "├──────────────┼────────────────────────────────────────────────────────────────────────────┼───────────────────┤\n",
      "│ B01606KJ6C   │ Microsoft Surface Pro 4, Intel Core i5                                     │      1.23724      │\n",
      "├──────────────┼────────────────────────────────────────────────────────────────────────────┼───────────────────┤\n",
      "│ B013PK8LGQ   │ Dell Inspiron 3000 15.6-Inches Windows 8.1 Laptop                          │      1.06944      │\n",
      "├──────────────┼────────────────────────────────────────────────────────────────────────────┼───────────────────┤\n",
      "│ B00PGELA04   │ Dell 15 5000 i15547-5003sLV 16-Inch Touch Screen Laptop                    │     0.942935      │\n",
      "├──────────────┼────────────────────────────────────────────────────────────────────────────┼───────────────────┤\n",
      "│ B00VGNZ4PG   │ Microsoft Surface 3 Tablet                                                 │       0.855       │\n",
      "├──────────────┼────────────────────────────────────────────────────────────────────────────┼───────────────────┤\n",
      "│ B0163GQJOU   │ Microsoft Surface Book Intel Core i5                                       │       0.825       │\n",
      "├──────────────┼────────────────────────────────────────────────────────────────────────────┼───────────────────┤\n",
      "│ B011KFQASE   │ ASUS F555LA-AB31 15.6-inch Full-HD Laptop                                  │      0.81853      │\n",
      "├──────────────┼────────────────────────────────────────────────────────────────────────────┼───────────────────┤\n",
      "│ B00VJ1P7TS   │ Apple MacBook Air MJVE2LL/A 13-inch Laptop                                 │     0.800926      │\n",
      "├──────────────┼────────────────────────────────────────────────────────────────────────────┼───────────────────┤\n",
      "│ B00XPUUGDI   │ Dell Inspiron 15 i5548-1670SLV Touchscreen Laptop                          │     0.766892      │\n",
      "├──────────────┼────────────────────────────────────────────────────────────────────────────┼───────────────────┤\n",
      "│ B00NJNE6AA   │ Dell Inspiron 15 7000 Series i7537T Touchscreen Laptop                     │     0.752657      │\n",
      "├──────────────┼────────────────────────────────────────────────────────────────────────────┼───────────────────┤\n",
      "│ B00RY4X8A4   │ 2015 Newest Model Dell XPS13 Ultrabook Computer                            │       0.725       │\n",
      "├──────────────┼────────────────────────────────────────────────────────────────────────────┼───────────────────┤\n",
      "│ B00HRO37UC   │ Dell Inspiron 15.6-Inch Touchscreen Laptop (i15RVT-6195BLK)                │     0.601415      │\n",
      "├──────────────┼────────────────────────────────────────────────────────────────────────────┼───────────────────┤\n",
      "│ B00Z1R85O0   │ 2015 Newest Dell Inspiron 2 in 1 Convertible Touchscreen Laptop            │     0.591667      │\n",
      "├──────────────┼────────────────────────────────────────────────────────────────────────────┼───────────────────┤\n",
      "│ B00K6ZIL0K   │ Lenovo Flex 2 15.6-Inch Touchscreen Laptop (59418271) Black                │     0.579545      │\n",
      "├──────────────┼────────────────────────────────────────────────────────────────────────────┼───────────────────┤\n",
      "│ B00K4PAV5U   │ Dell Inspiron 15.6-Inch Touchscreen Laptop                                 │     0.577703      │\n",
      "├──────────────┼────────────────────────────────────────────────────────────────────────────┼───────────────────┤\n",
      "│ B015PYZXRU   │ Dell Inspiron i5552-4391BLK 15.6 Inch Touchscreen Laptop                   │     0.548077      │\n",
      "├──────────────┼────────────────────────────────────────────────────────────────────────────┼───────────────────┤\n",
      "│ B015JVBD64   │ Dell Inspiron i5558-2859BLK 15.6 Inch Touchscreen Laptop                   │     0.548077      │\n",
      "├──────────────┼────────────────────────────────────────────────────────────────────────────┼───────────────────┤\n",
      "│ B004KZJ0UM   │ Dell Latitude D630 14.1-Inch Notebook PC - Silver 2011 Model               │     0.515218      │\n",
      "├──────────────┼────────────────────────────────────────────────────────────────────────────┼───────────────────┤\n",
      "│ B00IB04M5K   │ Dell Inspiron i3541-2001BLK 15.6-Inch Laptop                               │        0.5        │\n",
      "├──────────────┼────────────────────────────────────────────────────────────────────────────┼───────────────────┤\n",
      "│ B015JVB9C2   │ Dell Inspiron i3000-5099SLV Touchscreen Laptop                             │     0.491667      │\n",
      "├──────────────┼────────────────────────────────────────────────────────────────────────────┼───────────────────┤\n",
      "│ B00ZOO1RFO   │ Dell Inspiron i3543 15.6-Inch Touchscreen Laptop                           │     0.440789      │\n",
      "├──────────────┼────────────────────────────────────────────────────────────────────────────┼───────────────────┤\n",
      "│ B00PPTP9IO   │ Toshiba Radius 2-in-1 11.6\" Touch-screen Laptop                            │     0.438859      │\n",
      "├──────────────┼────────────────────────────────────────────────────────────────────────────┼───────────────────┤\n",
      "│ B011N5HFOE   │ Newest Dell Inspiron 15 3000 Series 3551 Laptop                            │      0.4375       │\n",
      "├──────────────┼────────────────────────────────────────────────────────────────────────────┼───────────────────┤\n",
      "│ B00ZS64K7K   │ Dell Inspiron 15 i5548-4167SLV - 15.6\" Touchscreen                         │     0.423913      │\n",
      "├──────────────┼────────────────────────────────────────────────────────────────────────────┼───────────────────┤\n",
      "│ B00ZOLT5YC   │ 2015 Newest Model DELL Inspiron 15 Touchscreen Laptop                      │      0.37875      │\n",
      "├──────────────┼────────────────────────────────────────────────────────────────────────────┼───────────────────┤\n",
      "│ B010DODAWM   │ Dell Inspiron 11 3000 Series 2-in-1  11.6 Inch Laptop                      │     0.371622      │\n",
      "├──────────────┼────────────────────────────────────────────────────────────────────────────┼───────────────────┤\n",
      "│ B00THEP15O   │ Dell Inspiron 15.6 Inch Laptop                                             │     0.356818      │\n",
      "├──────────────┼────────────────────────────────────────────────────────────────────────────┼───────────────────┤\n",
      "│ B00MMLW3X2   │ ASUS K200MA-DS01T(S) 11.6-Inch HD Touchscreen Laptop (Black)               │      0.34875      │\n",
      "├──────────────┼────────────────────────────────────────────────────────────────────────────┼───────────────────┤\n",
      "│ B00VKL0I96   │ Dell Latitude E6420 Premium 14.1-Inch Business Laptop                      │     0.336538      │\n",
      "├──────────────┼────────────────────────────────────────────────────────────────────────────┼───────────────────┤\n",
      "│ B00YD1OQ1G   │ Dell Inspiron N2840 14-Inch Laptop                                         │     0.335526      │\n",
      "├──────────────┼────────────────────────────────────────────────────────────────────────────┼───────────────────┤\n",
      "│ B00U8DHPX4   │ Dell - Inspiron I3542-11001BK 15.6\" Touch-Screen Laptop                    │      0.24375      │\n",
      "├──────────────┼────────────────────────────────────────────────────────────────────────────┼───────────────────┤\n",
      "│ B00KMRGF28   │ Dell Inspiron i3531-1200BK 16-Inch Laptop,Black                            │       0.215       │\n",
      "├──────────────┼────────────────────────────────────────────────────────────────────────────┼───────────────────┤\n",
      "│ B00K4PATO8   │ Dell Inspiron i5748-2143sLV 17.3-Inch Laptop                               │      0.1825       │\n",
      "├──────────────┼────────────────────────────────────────────────────────────────────────────┼───────────────────┤\n",
      "│ B00KDI9C4O   │ HP Pavilion x360 13-a010nr 13.3-Inch 2 in 1 Convertible Touchscreen Laptop │     0.160635      │\n",
      "├──────────────┼────────────────────────────────────────────────────────────────────────────┼───────────────────┤\n",
      "│ B00V2KX5JA   │ 2015 Newest Model Dell Inspiron 15 Laptop Computer                         │     0.148649      │\n",
      "├──────────────┼────────────────────────────────────────────────────────────────────────────┼───────────────────┤\n",
      "│ B010DOD2G6   │ Dell Inspiron 15 5000 15.6 Inch Laptop                                     │     0.145833      │\n",
      "├──────────────┼────────────────────────────────────────────────────────────────────────────┼───────────────────┤\n",
      "│ B00N9ERISQ   │ Microsoft Surface 2 32GB 10.6\" Tablet                                      │     0.137255      │\n",
      "├──────────────┼────────────────────────────────────────────────────────────────────────────┼───────────────────┤\n",
      "│ B00X9KPSKK   │ HP Pavilion X360 13.3-Inch WLED HD Touch-screen Convertible Laptop         │     0.0702055     │\n",
      "├──────────────┼────────────────────────────────────────────────────────────────────────────┼───────────────────┤\n",
      "│ B012BPRLO4   │ Dell Latitude E6400 Laptop Core 2 Duo                                      │       -0.25       │\n",
      "╘══════════════╧════════════════════════════════════════════════════════════════════════════╧═══════════════════╛\n"
     ]
    }
   ],
   "source": [
    "#Calculates average sentiment of all reviews that a product received.\n",
    "def productAverageScore(reviews_dict):\n",
    "    result = []\n",
    "    for pid in reviews_dict.keys():\n",
    "        reviews_lst = reviews_dict[pid]\n",
    "        sum = 0\n",
    "        for review in reviews_lst:\n",
    "            sum+=review[1]\n",
    "        \n",
    "        avg = sum/len(reviews_lst)\n",
    "        result.append((pid,avg))\n",
    "        result = sorted(result,key = itemgetter(1),reverse = True)\n",
    "    \n",
    "    return result\n",
    "        \n",
    "product_avg = productAverageScore(product_reviews)\n",
    "#print product_avg[0][1]\n",
    "\n",
    "cnt = 0\n",
    "table = []\n",
    "for val in range(len(product_avg)):\n",
    "    cnt+=1\n",
    "    table.append([product_avg[val][0],product_dictionary[product_avg[val][0]][0],product_avg[val][1]])\n",
    "    \n",
    "print tabulate(table,headers=[\"Product ID\",\"Product Title\",\"Sentiment Score\"], tablefmt=\"fancy_grid\", numalign=\"center\")\n"
   ]
  },
  {
   "cell_type": "code",
   "execution_count": 78,
   "metadata": {
    "collapsed": false,
    "scrolled": false
   },
   "outputs": [
    {
     "data": {
      "image/png": "[encoded data removed]",
      "text/plain": [
       "<matplotlib.figure.Figure at 0x7fa5dc6ee350>"
      ]
     },
     "metadata": {},
     "output_type": "display_data"
    }
   ],
   "source": [
    "h = []\n",
    "for i in range(len(product_avg)):\n",
    "    h.append(product_avg[i][1])\n",
    "\n",
    "h = sorted(h)\n",
    "#print h   \n",
    "fit = stats.norm.pdf(h, np.mean(h), np.std(h))  #this is a fitting indeed\n",
    "\n",
    "pl.plot(h,fit,'-o')\n",
    "\n",
    "pl.hist(h,normed=True)      #use this to draw histogram of your data\n",
    "\n",
    "pl.show()"
   ]
  },
  {
   "cell_type": "code",
   "execution_count": 79,
   "metadata": {
    "collapsed": false
   },
   "outputs": [],
   "source": [
    "#Calculates average sentiment of all reviews that a product received.\n",
    "def productFeatureScore(reviews_dict,feature):\n",
    "    result = []\n",
    "    for pid in reviews_dict.keys():\n",
    "        reviews_lst = reviews_dict[pid]\n",
    "        sum = 0.0\n",
    "        cnt = 0.0\n",
    "        for review in reviews_lst:\n",
    "            reviewstr = review[0].lower()\n",
    "            if re.findall(feature, reviewstr):\n",
    "                sum+=review[1]\n",
    "                cnt+=1\n",
    "        if cnt != 0:\n",
    "            avg = sum/cnt\n",
    "            result.append((pid,avg))\n",
    "        result = sorted(result,key = itemgetter(1),reverse = True)\n",
    "    return result"
   ]
  },
  {
   "cell_type": "code",
   "execution_count": 80,
   "metadata": {
    "collapsed": false,
    "scrolled": true
   },
   "outputs": [
    {
     "name": "stdout",
     "output_type": "stream",
     "text": [
      "╒═══════════════╤════════════════════════════════════════════════════════════════════════════╤═══════════════════╕\n",
      "│ Item Number   │ Product Title                                                              │  Sentiment Score  │\n",
      "╞═══════════════╪════════════════════════════════════════════════════════════════════════════╪═══════════════════╡\n",
      "│ B00FF6J532    │ Microsoft Surface 2 (32 GB)                                                │      5.2301       │\n",
      "├───────────────┼────────────────────────────────────────────────────────────────────────────┼───────────────────┤\n",
      "│ B015P3SH9W    │ Dell Inspiron i7359-6790SLV 2-in-1 Touchscreen Laptop                      │      3.45652      │\n",
      "├───────────────┼────────────────────────────────────────────────────────────────────────────┼───────────────────┤\n",
      "│ B015JVB9C2    │ Dell Inspiron i3000-5099SLV Touchscreen Laptop                             │       3.375       │\n",
      "├───────────────┼────────────────────────────────────────────────────────────────────────────┼───────────────────┤\n",
      "│ B01606KJ6C    │ Microsoft Surface Pro 4, Intel Core i5                                     │       2.375       │\n",
      "├───────────────┼────────────────────────────────────────────────────────────────────────────┼───────────────────┤\n",
      "│ B00ZS64K7K    │ Dell Inspiron 15 i5548-4167SLV - 15.6\" Touchscreen                         │      2.33333      │\n",
      "├───────────────┼────────────────────────────────────────────────────────────────────────────┼───────────────────┤\n",
      "│ B00IU745S8    │ G-Tab Iota Quad Core Android Tablet PC                                     │        2.2        │\n",
      "├───────────────┼────────────────────────────────────────────────────────────────────────────┼───────────────────┤\n",
      "│ B00NJNE6AA    │ Dell Inspiron 15 7000 Series i7537T Touchscreen Laptop                     │      1.90915      │\n",
      "├───────────────┼────────────────────────────────────────────────────────────────────────────┼───────────────────┤\n",
      "│ B011N5HFOE    │ Newest Dell Inspiron 15 3000 Series 3551 Laptop                            │       1.875       │\n",
      "├───────────────┼────────────────────────────────────────────────────────────────────────────┼───────────────────┤\n",
      "│ B00VGNZ4PG    │ Microsoft Surface 3 Tablet                                                 │       1.75        │\n",
      "├───────────────┼────────────────────────────────────────────────────────────────────────────┼───────────────────┤\n",
      "│ B011KFQASE    │ ASUS F555LA-AB31 15.6-inch Full-HD Laptop                                  │      1.65914      │\n",
      "├───────────────┼────────────────────────────────────────────────────────────────────────────┼───────────────────┤\n",
      "│ B00ZOO1RFO    │ Dell Inspiron i3543 15.6-Inch Touchscreen Laptop                           │      1.52083      │\n",
      "├───────────────┼────────────────────────────────────────────────────────────────────────────┼───────────────────┤\n",
      "│ B00PPTP9IO    │ Toshiba Radius 2-in-1 11.6\" Touch-screen Laptop                            │      1.50962      │\n",
      "├───────────────┼────────────────────────────────────────────────────────────────────────────┼───────────────────┤\n",
      "│ B00XPUUGDI    │ Dell Inspiron 15 i5548-1670SLV Touchscreen Laptop                          │        1.5        │\n",
      "├───────────────┼────────────────────────────────────────────────────────────────────────────┼───────────────────┤\n",
      "│ B00K6ZIL0K    │ Lenovo Flex 2 15.6-Inch Touchscreen Laptop (59418271) Black                │       1.45        │\n",
      "├───────────────┼────────────────────────────────────────────────────────────────────────────┼───────────────────┤\n",
      "│ B00K4PAV5U    │ Dell Inspiron 15.6-Inch Touchscreen Laptop                                 │      1.39844      │\n",
      "├───────────────┼────────────────────────────────────────────────────────────────────────────┼───────────────────┤\n",
      "│ B010DODAWM    │ Dell Inspiron 11 3000 Series 2-in-1  11.6 Inch Laptop                      │      1.34375      │\n",
      "├───────────────┼────────────────────────────────────────────────────────────────────────────┼───────────────────┤\n",
      "│ B00U8DHPX4    │ Dell - Inspiron I3542-11001BK 15.6\" Touch-Screen Laptop                    │      1.20312      │\n",
      "├───────────────┼────────────────────────────────────────────────────────────────────────────┼───────────────────┤\n",
      "│ B00RY4X8A4    │ 2015 Newest Model Dell XPS13 Ultrabook Computer                            │      1.09375      │\n",
      "├───────────────┼────────────────────────────────────────────────────────────────────────────┼───────────────────┤\n",
      "│ B00V2KX5JA    │ 2015 Newest Model Dell Inspiron 15 Laptop Computer                         │      1.08333      │\n",
      "├───────────────┼────────────────────────────────────────────────────────────────────────────┼───────────────────┤\n",
      "│ B00HRO37UC    │ Dell Inspiron 15.6-Inch Touchscreen Laptop (i15RVT-6195BLK)                │      1.07955      │\n",
      "├───────────────┼────────────────────────────────────────────────────────────────────────────┼───────────────────┤\n",
      "│ B00PGELA04    │ Dell 15 5000 i15547-5003sLV 16-Inch Touch Screen Laptop                    │      1.05556      │\n",
      "├───────────────┼────────────────────────────────────────────────────────────────────────────┼───────────────────┤\n",
      "│ B004KZJ0UM    │ Dell Latitude D630 14.1-Inch Notebook PC - Silver 2011 Model               │         1         │\n",
      "├───────────────┼────────────────────────────────────────────────────────────────────────────┼───────────────────┤\n",
      "│ B00Z1R85O0    │ 2015 Newest Dell Inspiron 2 in 1 Convertible Touchscreen Laptop            │       0.875       │\n",
      "├───────────────┼────────────────────────────────────────────────────────────────────────────┼───────────────────┤\n",
      "│ B00ZOLT5YC    │ 2015 Newest Model DELL Inspiron 15 Touchscreen Laptop                      │     0.865385      │\n",
      "├───────────────┼────────────────────────────────────────────────────────────────────────────┼───────────────────┤\n",
      "│ B00KDI9C4O    │ HP Pavilion x360 13-a010nr 13.3-Inch 2 in 1 Convertible Touchscreen Laptop │     0.748778      │\n",
      "├───────────────┼────────────────────────────────────────────────────────────────────────────┼───────────────────┤\n",
      "│ B00IB04M5K    │ Dell Inspiron i3541-2001BLK 15.6-Inch Laptop                               │      0.6875       │\n",
      "├───────────────┼────────────────────────────────────────────────────────────────────────────┼───────────────────┤\n",
      "│ B00MMLW3X2    │ ASUS K200MA-DS01T(S) 11.6-Inch HD Touchscreen Laptop (Black)               │       0.575       │\n",
      "├───────────────┼────────────────────────────────────────────────────────────────────────────┼───────────────────┤\n",
      "│ B00KMRGF28    │ Dell Inspiron i3531-1200BK 16-Inch Laptop,Black                            │        0.5        │\n",
      "├───────────────┼────────────────────────────────────────────────────────────────────────────┼───────────────────┤\n",
      "│ B00K4PATO8    │ Dell Inspiron i5748-2143sLV 17.3-Inch Laptop                               │     0.0909091     │\n",
      "├───────────────┼────────────────────────────────────────────────────────────────────────────┼───────────────────┤\n",
      "│ B00THEP15O    │ Dell Inspiron 15.6 Inch Laptop                                             │         0         │\n",
      "├───────────────┼────────────────────────────────────────────────────────────────────────────┼───────────────────┤\n",
      "│ B00X9KPSKK    │ HP Pavilion X360 13.3-Inch WLED HD Touch-screen Convertible Laptop         │     -0.102273     │\n",
      "├───────────────┼────────────────────────────────────────────────────────────────────────────┼───────────────────┤\n",
      "│ B00VJ1P7TS    │ Apple MacBook Air MJVE2LL/A 13-inch Laptop                                 │       -0.25       │\n",
      "├───────────────┼────────────────────────────────────────────────────────────────────────────┼───────────────────┤\n",
      "│ B00N9ERISQ    │ Microsoft Surface 2 32GB 10.6\" Tablet                                      │       -0.25       │\n",
      "├───────────────┼────────────────────────────────────────────────────────────────────────────┼───────────────────┤\n",
      "│ B0163GQJOU    │ Microsoft Surface Book Intel Core i5                                       │     -0.34375      │\n",
      "├───────────────┼────────────────────────────────────────────────────────────────────────────┼───────────────────┤\n",
      "│ B015PYZXRU    │ Dell Inspiron i5552-4391BLK 15.6 Inch Touchscreen Laptop                   │       -0.5        │\n",
      "├───────────────┼────────────────────────────────────────────────────────────────────────────┼───────────────────┤\n",
      "│ B015JVBD64    │ Dell Inspiron i5558-2859BLK 15.6 Inch Touchscreen Laptop                   │       -0.5        │\n",
      "├───────────────┼────────────────────────────────────────────────────────────────────────────┼───────────────────┤\n",
      "│ B010DOD2G6    │ Dell Inspiron 15 5000 15.6 Inch Laptop                                     │       -0.5        │\n",
      "╘═══════════════╧════════════════════════════════════════════════════════════════════════════╧═══════════════════╛\n"
     ]
    }
   ],
   "source": [
    "#Searching for products with reviews related to touch\n",
    "product_touch = productFeatureScore(product_reviews,\"touch\")\n",
    "\n",
    "cnt = 0\n",
    "table = []\n",
    "for val in range(len(product_touch)):\n",
    "    cnt+=1\n",
    "    table.append([product_touch[val][0],product_dictionary[product_touch[val][0]][0],product_touch[val][1]])\n",
    "print tabulate(table,headers=[\"Item Number\",\"Product Title\",\"Sentiment Score\"], tablefmt=\"fancy_grid\", numalign=\"center\")"
   ]
  },
  {
   "cell_type": "code",
   "execution_count": 55,
   "metadata": {
    "collapsed": false,
    "scrolled": true
   },
   "outputs": [
    {
     "name": "stdout",
     "output_type": "stream",
     "text": [
      "╒═══════════════╤════════════════════════════════════════════════════════════════════╤═══════════════════╕\n",
      "│  Item Number  │ Product Title                                                      │  Sentiment Score  │\n",
      "╞═══════════════╪════════════════════════════════════════════════════════════════════╪═══════════════════╡\n",
      "│       1       │ Microsoft Surface 2 (32 GB)                                        │      8.97917      │\n",
      "├───────────────┼────────────────────────────────────────────────────────────────────┼───────────────────┤\n",
      "│       2       │ Dell Latitude E6420 Premium 14.1-Inch Business Laptop              │       6.75        │\n",
      "├───────────────┼────────────────────────────────────────────────────────────────────┼───────────────────┤\n",
      "│       3       │ Dell - Inspiron I3542-11001BK 15.6\" Touch-Screen Laptop            │       5.125       │\n",
      "├───────────────┼────────────────────────────────────────────────────────────────────┼───────────────────┤\n",
      "│       4       │ Dell Inspiron i7359-6790SLV 2-in-1 Touchscreen Laptop              │         5         │\n",
      "├───────────────┼────────────────────────────────────────────────────────────────────┼───────────────────┤\n",
      "│       5       │ Toshiba Radius 2-in-1 11.6\" Touch-screen Laptop                    │      4.5625       │\n",
      "├───────────────┼────────────────────────────────────────────────────────────────────┼───────────────────┤\n",
      "│       6       │ Microsoft Surface Book Intel Core i5                               │       3.625       │\n",
      "├───────────────┼────────────────────────────────────────────────────────────────────┼───────────────────┤\n",
      "│       7       │ Dell Inspiron 15 i5548-4167SLV - 15.6\" Touchscreen                 │      2.8125       │\n",
      "├───────────────┼────────────────────────────────────────────────────────────────────┼───────────────────┤\n",
      "│       8       │ Dell Inspiron 15 i5548-1670SLV Touchscreen Laptop                  │      2.59375      │\n",
      "├───────────────┼────────────────────────────────────────────────────────────────────┼───────────────────┤\n",
      "│       9       │ Microsoft Surface Pro 4, Intel Core i5                             │      2.4375       │\n",
      "├───────────────┼────────────────────────────────────────────────────────────────────┼───────────────────┤\n",
      "│      10       │ Dell Latitude D630 14.1-Inch Notebook PC - Silver 2011 Model       │      2.37133      │\n",
      "├───────────────┼────────────────────────────────────────────────────────────────────┼───────────────────┤\n",
      "│      11       │ ASUS F555LA-AB31 15.6-inch Full-HD Laptop                          │      2.2652       │\n",
      "├───────────────┼────────────────────────────────────────────────────────────────────┼───────────────────┤\n",
      "│      12       │ Dell Inspiron i5748-2143sLV 17.3-Inch Laptop                       │       2.25        │\n",
      "├───────────────┼────────────────────────────────────────────────────────────────────┼───────────────────┤\n",
      "│      13       │ Lenovo Flex 2 15.6-Inch Touchscreen Laptop (59418271) Black        │       1.875       │\n",
      "├───────────────┼────────────────────────────────────────────────────────────────────┼───────────────────┤\n",
      "│      14       │ G-Tab Iota Quad Core Android Tablet PC                             │       1.75        │\n",
      "├───────────────┼────────────────────────────────────────────────────────────────────┼───────────────────┤\n",
      "│      15       │ 2015 Newest Model Dell Inspiron 15 Laptop Computer                 │       1.65        │\n",
      "├───────────────┼────────────────────────────────────────────────────────────────────┼───────────────────┤\n",
      "│      16       │ Dell Inspiron 15.6-Inch Touchscreen Laptop (i15RVT-6195BLK)        │       1.625       │\n",
      "├───────────────┼────────────────────────────────────────────────────────────────────┼───────────────────┤\n",
      "│      17       │ 2015 Newest Dell Chromebook, 11.6 inch HD Non-Touch LCD            │       1.625       │\n",
      "├───────────────┼────────────────────────────────────────────────────────────────────┼───────────────────┤\n",
      "│      18       │ Dell 15 5000 i15547-5003sLV 16-Inch Touch Screen Laptop            │      1.5625       │\n",
      "├───────────────┼────────────────────────────────────────────────────────────────────┼───────────────────┤\n",
      "│      19       │ Microsoft Surface 3 Tablet                                         │       1.375       │\n",
      "├───────────────┼────────────────────────────────────────────────────────────────────┼───────────────────┤\n",
      "│      20       │ Dell Inspiron 15.6-Inch Touchscreen Laptop                         │       1.25        │\n",
      "├───────────────┼────────────────────────────────────────────────────────────────────┼───────────────────┤\n",
      "│      21       │ Dell Inspiron 15 7000 Series i7537T Touchscreen Laptop             │      1.10633      │\n",
      "├───────────────┼────────────────────────────────────────────────────────────────────┼───────────────────┤\n",
      "│      22       │ 2015 Newest Model Dell XPS13 Ultrabook Computer                    │       1.075       │\n",
      "├───────────────┼────────────────────────────────────────────────────────────────────┼───────────────────┤\n",
      "│      23       │ Dell Inspiron i3541-2001BLK 15.6-Inch Laptop                       │       0.35        │\n",
      "├───────────────┼────────────────────────────────────────────────────────────────────┼───────────────────┤\n",
      "│      24       │ ASUS K200MA-DS01T(S) 11.6-Inch HD Touchscreen Laptop (Black)       │       0.25        │\n",
      "├───────────────┼────────────────────────────────────────────────────────────────────┼───────────────────┤\n",
      "│      25       │ Dell Inspiron 15 5000 15.6 Inch Laptop                             │       0.125       │\n",
      "├───────────────┼────────────────────────────────────────────────────────────────────┼───────────────────┤\n",
      "│      26       │ Dell Inspiron i3543 15.6-Inch Touchscreen Laptop                   │         0         │\n",
      "├───────────────┼────────────────────────────────────────────────────────────────────┼───────────────────┤\n",
      "│      27       │ 2015 Newest Model DELL Inspiron 15 Touchscreen Laptop              │      -0.125       │\n",
      "├───────────────┼────────────────────────────────────────────────────────────────────┼───────────────────┤\n",
      "│      28       │ Dell Latitude E6400 Laptop Core 2 Duo                              │       -0.25       │\n",
      "├───────────────┼────────────────────────────────────────────────────────────────────┼───────────────────┤\n",
      "│      29       │ Dell Inspiron i3531-1200BK 16-Inch Laptop,Black                    │     -0.583333     │\n",
      "├───────────────┼────────────────────────────────────────────────────────────────────┼───────────────────┤\n",
      "│      30       │ Dell Inspiron i5552-4391BLK 15.6 Inch Touchscreen Laptop           │      -0.6875      │\n",
      "├───────────────┼────────────────────────────────────────────────────────────────────┼───────────────────┤\n",
      "│      31       │ Dell Inspiron i5558-2859BLK 15.6 Inch Touchscreen Laptop           │      -0.6875      │\n",
      "├───────────────┼────────────────────────────────────────────────────────────────────┼───────────────────┤\n",
      "│      32       │ Dell Inspiron 15.6 Inch Laptop                                     │       -0.75       │\n",
      "├───────────────┼────────────────────────────────────────────────────────────────────┼───────────────────┤\n",
      "│      33       │ Newest Dell Inspiron 15 3000 Series 3551 Laptop                    │       -0.75       │\n",
      "├───────────────┼────────────────────────────────────────────────────────────────────┼───────────────────┤\n",
      "│      34       │ HP Pavilion X360 13.3-Inch WLED HD Touch-screen Convertible Laptop │     -1.79167      │\n",
      "╘═══════════════╧════════════════════════════════════════════════════════════════════╧═══════════════════╛\n"
     ]
    }
   ],
   "source": [
    "#Searching for products with reviews related to processor\n",
    "product_processor = productFeatureScore(product_reviews,\"processor\")\n",
    "\n",
    "cnt = 0\n",
    "table = []\n",
    "for val in range(len(product_processor)):\n",
    "    cnt+=1\n",
    "    table.append([cnt,product_dictionary[product_processor[val][0]][0],product_processor[val][1]])\n",
    "print tabulate(table,headers=[\"Item Number\",\"Product Title\",\"Sentiment Score\"], tablefmt=\"fancy_grid\", numalign=\"center\")"
   ]
  },
  {
   "cell_type": "code",
   "execution_count": 92,
   "metadata": {
    "collapsed": false,
    "scrolled": false
   },
   "outputs": [
    {
     "name": "stdout",
     "output_type": "stream",
     "text": [
      "╒═══════════════╤═════════════════════════════════════════════════════════════╤═══════════════════╕\n",
      "│  Item Number  │ Product Title                                               │  Sentiment Score  │\n",
      "╞═══════════════╪═════════════════════════════════════════════════════════════╪═══════════════════╡\n",
      "│       1       │ Microsoft Surface 2 (32 GB)                                 │      5.31731      │\n",
      "├───────────────┼─────────────────────────────────────────────────────────────┼───────────────────┤\n",
      "│       2       │ Dell Inspiron i3531-1200BK 16-Inch Laptop,Black             │      4.3125       │\n",
      "├───────────────┼─────────────────────────────────────────────────────────────┼───────────────────┤\n",
      "│       3       │ Dell Inspiron 15.6-Inch Touchscreen Laptop (i15RVT-6195BLK) │       4.25        │\n",
      "├───────────────┼─────────────────────────────────────────────────────────────┼───────────────────┤\n",
      "│       4       │ G-Tab Iota Quad Core Android Tablet PC                      │         3         │\n",
      "├───────────────┼─────────────────────────────────────────────────────────────┼───────────────────┤\n",
      "│       5       │ Dell Inspiron i5748-2143sLV 17.3-Inch Laptop                │         2         │\n",
      "├───────────────┼─────────────────────────────────────────────────────────────┼───────────────────┤\n",
      "│       6       │ 2015 Newest Model DELL Inspiron 15 Touchscreen Laptop       │       1.875       │\n",
      "├───────────────┼─────────────────────────────────────────────────────────────┼───────────────────┤\n",
      "│       7       │ Dell Inspiron 11 3000 Series 2-in-1  11.6 Inch Laptop       │       1.75        │\n",
      "├───────────────┼─────────────────────────────────────────────────────────────┼───────────────────┤\n",
      "│       8       │ Dell Inspiron 15 i5548-1670SLV Touchscreen Laptop           │       1.125       │\n",
      "├───────────────┼─────────────────────────────────────────────────────────────┼───────────────────┤\n",
      "│       9       │ Dell - Inspiron I3542-11001BK 15.6\" Touch-Screen Laptop     │       1.125       │\n",
      "├───────────────┼─────────────────────────────────────────────────────────────┼───────────────────┤\n",
      "│      10       │ 2015 Newest Model Dell XPS13 Ultrabook Computer             │       0.75        │\n",
      "├───────────────┼─────────────────────────────────────────────────────────────┼───────────────────┤\n",
      "│      11       │ Dell Inspiron i3543 15.6-Inch Touchscreen Laptop            │       0.625       │\n",
      "├───────────────┼─────────────────────────────────────────────────────────────┼───────────────────┤\n",
      "│      12       │ Microsoft Surface 3 Tablet                                  │      0.3125       │\n",
      "├───────────────┼─────────────────────────────────────────────────────────────┼───────────────────┤\n",
      "│      13       │ Dell Inspiron 15 i5548-4167SLV - 15.6\" Touchscreen          │       0.125       │\n",
      "├───────────────┼─────────────────────────────────────────────────────────────┼───────────────────┤\n",
      "│      14       │ Toshiba Radius 2-in-1 11.6\" Touch-screen Laptop             │      -0.0625      │\n",
      "├───────────────┼─────────────────────────────────────────────────────────────┼───────────────────┤\n",
      "│      15       │ Dell Inspiron 15.6 Inch Laptop                              │      -0.5625      │\n",
      "├───────────────┼─────────────────────────────────────────────────────────────┼───────────────────┤\n",
      "│      16       │ ASUS F555LA-AB31 15.6-inch Full-HD Laptop                   │       -3.75       │\n",
      "╘═══════════════╧═════════════════════════════════════════════════════════════╧═══════════════════╛\n"
     ]
    }
   ],
   "source": [
    "#Searching for products with reviews related to processor\n",
    "product_storage = productFeatureScore(product_reviews,\"storage\")\n",
    "\n",
    "cnt =0\n",
    "table = []\n",
    "for val in range(len(product_storage)):\n",
    "    cnt+=1\n",
    "    table.append([cnt,product_dictionary[product_storage[val][0]][0],product_storage[val][1]])\n",
    "print tabulate(table,headers=[\"Item Number\",\"Product Title\",\"Sentiment Score\"], tablefmt=\"fancy_grid\", numalign=\"center\")\n",
    "    "
   ]
  },
  {
   "cell_type": "code",
   "execution_count": 65,
   "metadata": {
    "collapsed": true
   },
   "outputs": [],
   "source": [
    "#Create Graph for Every method. \n",
    "\n",
    "def Create_Graph(var):\n",
    "    x = []\n",
    "    y = []\n",
    "    p = []\n",
    "    for i in range(len(var)):\n",
    "        p.append(i+1)\n",
    "        #print p\n",
    "        x.append(var[i][0])            \n",
    "        y.append(var[i][1])\n",
    "    plt.bar(p,y,align='center')\n",
    "    #plt.figure(figsize=(1,1))\n",
    "    plt.xticks(p)\n",
    "    plt.xlabel('Products')\n",
    "    plt.ylabel('Average Ratings')\n",
    "    plt.show()\n",
    "    table = []\n",
    "    cnt = 0\n",
    "    for i in x:\n",
    "        cnt+=1\n",
    "        table.append([cnt,i])\n",
    "    print tabulate(table,headers=[\"Item Number\",\"Product ID\"], tablefmt=\"grid\", numalign=\"center\")\n"
   ]
  },
  {
   "cell_type": "code",
   "execution_count": 66,
   "metadata": {
    "collapsed": false,
    "scrolled": false
   },
   "outputs": [
    {
     "data": {
      "image/png": "[encoded data removed]",
      "text/plain": [
       "<matplotlib.figure.Figure at 0x7fa610fadf90>"
      ]
     },
     "metadata": {},
     "output_type": "display_data"
    },
    {
     "name": "stdout",
     "output_type": "stream",
     "text": [
      "+---------------+--------------+\n",
      "|  Item Number  | Product ID   |\n",
      "+===============+==============+\n",
      "|       1       | B00FF6J532   |\n",
      "+---------------+--------------+\n",
      "|       2       | B015P3SH9W   |\n",
      "+---------------+--------------+\n",
      "|       3       | B015JVB9C2   |\n",
      "+---------------+--------------+\n",
      "|       4       | B01606KJ6C   |\n",
      "+---------------+--------------+\n",
      "|       5       | B00ZS64K7K   |\n",
      "+---------------+--------------+\n",
      "|       6       | B00IU745S8   |\n",
      "+---------------+--------------+\n",
      "|       7       | B00NJNE6AA   |\n",
      "+---------------+--------------+\n",
      "|       8       | B011N5HFOE   |\n",
      "+---------------+--------------+\n",
      "|       9       | B00VGNZ4PG   |\n",
      "+---------------+--------------+\n",
      "|      10       | B011KFQASE   |\n",
      "+---------------+--------------+\n"
     ]
    }
   ],
   "source": [
    "#lis = [('p',3),('q',3),('r',5),('s',1)]\n",
    "\n",
    "Create_Graph(product_touch[:10])"
   ]
  },
  {
   "cell_type": "code",
   "execution_count": null,
   "metadata": {
    "collapsed": true
   },
   "outputs": [],
   "source": []
  },
  {
   "cell_type": "code",
   "execution_count": null,
   "metadata": {
    "collapsed": true
   },
   "outputs": [],
   "source": [
    "def do_vectorize(filenames, tokenizer_fn=tokenize, min_df=1,\n",
    "                 max_df=1., binary=True, ngram_range=(1,1)):\n",
    "    \"\"\"\n",
    "    Convert a list of filenames into a sparse csr_matrix, where\n",
    "    each row is a file and each column represents a unique word.\n",
    "    Use sklearn's CountVectorizer: http://goo.gl/eJ2PJ5\n",
    "    Params:\n",
    "        filenames.......list of review file names\n",
    "        tokenizer_fn....the function used to tokenize each document\n",
    "        min_df..........remove terms from the vocabulary that don't appear\n",
    "                        in at least this many documents\n",
    "        max_df..........remove terms from the vocabulary that appear in more\n",
    "                        than this fraction of documents\n",
    "        binary..........If true, each documents is represented by a binary\n",
    "                        vector, where 1 means a term occurs at least once in \n",
    "                        the document. If false, the term frequency is used instead.\n",
    "        ngram_range.....A tuple (n,m) means to use phrases of length n to m inclusive.\n",
    "                        E.g., (1,2) means consider unigrams and bigrams.\n",
    "    Return:\n",
    "        A tuple (X, vec), where X is the csr_matrix of feature vectors,\n",
    "        and vec is the CountVectorizer object.\n",
    "    \"\"\"\n",
    "    ###TODO\n",
    "    ###\n",
    "    \n",
    "    \n",
    "    vec = CountVectorizer(input = 'filename', tokenizer = tokenizer_fn,\n",
    "                         min_df = min_df, max_df = max_df, binary = binary, ngram_range = ngram_range,dtype=int)    \n",
    "    X=vec.fit_transform(filenames)\n",
    "    return (X,vec)\n",
    "\n",
    "    \n",
    "matrix,vec = do_vectorize(all_train_files)\n",
    "print ('matrix represents %d documents with %d features' % (matrix.shape[0], matrix.shape[1]))\n",
    "print('first doc has terms:\\n%s' % (str(sorted(matrix[0].nonzero()[1]))))"
   ]
  },
  {
   "cell_type": "code",
   "execution_count": 115,
   "metadata": {
    "collapsed": false
   },
   "outputs": [],
   "source": [
    "pid = []\n",
    "for i in range(len(product_avg)):\n",
    "    pid.append(str(product_avg[i][0]))"
   ]
  },
  {
   "cell_type": "code",
   "execution_count": 116,
   "metadata": {
    "collapsed": false
   },
   "outputs": [
    {
     "data": {
      "text/plain": [
       "'B00FF6J532'"
      ]
     },
     "execution_count": 116,
     "metadata": {},
     "output_type": "execute_result"
    }
   ],
   "source": [
    "pid[0]"
   ]
  },
  {
   "cell_type": "code",
   "execution_count": 117,
   "metadata": {
    "collapsed": false
   },
   "outputs": [],
   "source": [
    "result = []\n",
    "for i in pid:\n",
    "    reviews = file2string(\"Reviews_Data/\"+ i +\".txt\")\n",
    "    for review_line in reviews:\n",
    "        review = review_line.split(\"->\")[1]\n",
    "        r1 = processAll(review)\n",
    "        review = replace_with_not(r1)\n",
    "        result.append(review)\n"
   ]
  },
  {
   "cell_type": "code",
   "execution_count": null,
   "metadata": {
    "collapsed": false
   },
   "outputs": [],
   "source": []
  },
  {
   "cell_type": "code",
   "execution_count": 120,
   "metadata": {
    "collapsed": true
   },
   "outputs": [],
   "source": [
    "i = 1\n",
    "rslt = []\n",
    "for review in result:\n",
    "    score = calculateSynsetScore(review)\n",
    "    rslt.append((review,score))\n",
    "    f = open('Data/r'+ str(i) +'.txt','w+')\n",
    "    f.write(review)\n",
    "    f.close()\n",
    "    i += 1"
   ]
  },
  {
   "cell_type": "code",
   "execution_count": 127,
   "metadata": {
    "collapsed": false
   },
   "outputs": [
    {
     "data": {
      "text/plain": [
       "(u'i discovered that windows rt is very limited and i doesn t suggest to buy rt version ',\n",
       " 0.625)"
      ]
     },
     "execution_count": 127,
     "metadata": {},
     "output_type": "execute_result"
    }
   ],
   "source": [
    "rslt[0]"
   ]
  },
  {
   "cell_type": "code",
   "execution_count": 134,
   "metadata": {
    "collapsed": false
   },
   "outputs": [
    {
     "name": "stdout",
     "output_type": "stream",
     "text": [
      "subdirectories are:['test', 'train']\n"
     ]
    }
   ],
   "source": [
    "# Here is the path to the data directory.\n",
    "path = 'Data'\n",
    "print('subdirectories are:' + str(os.listdir(path)))"
   ]
  },
  {
   "cell_type": "code",
   "execution_count": 135,
   "metadata": {
    "collapsed": true
   },
   "outputs": [],
   "source": [
    "def get_files(path):\n",
    "    list = []\n",
    "    #get list of files in geiven directory\n",
    "    for a in sorted(os.listdir(path)):\n",
    "        #append all files path to list\n",
    "        list.append(path + os.sep + a)\n",
    "    return list"
   ]
  },
  {
   "cell_type": "code",
   "execution_count": 200,
   "metadata": {
    "collapsed": false
   },
   "outputs": [],
   "source": [
    "files = get_files(\"Data/train/neg/\")"
   ]
  },
  {
   "cell_type": "code",
   "execution_count": 204,
   "metadata": {
    "collapsed": false
   },
   "outputs": [
    {
     "data": {
      "text/plain": [
       "331"
      ]
     },
     "execution_count": 204,
     "metadata": {},
     "output_type": "execute_result"
    }
   ],
   "source": [
    "len(files)"
   ]
  },
  {
   "cell_type": "code",
   "execution_count": 202,
   "metadata": {
    "collapsed": false
   },
   "outputs": [],
   "source": [
    "######     Do not touch this code   #########\n",
    "\n",
    "\n",
    "pos = []\n",
    "neg = []\n",
    "neutral = []\n",
    "#dest1 = 'Data/train/pos'\n",
    "#dest2 = 'Data/train/neg'\n",
    "\n",
    "for file in files:\n",
    "    f = open(file,'r+')\n",
    "    m = processAll(f.read())\n",
    "    score = calculateSynsetScore(m)\n",
    "    if score > 0:\n",
    "        pos.append(m)\n",
    "        #shutil.move(file, dest1)\n",
    "    else:\n",
    "        neg.append(m)\n",
    "        #shutil.move(file, dest2)\n",
    "    \n",
    "        \n",
    "    f.close()\n",
    "\n",
    "    f = open(file,'wb')\n",
    "    f.write(str(m))\n",
    "    f.close()"
   ]
  },
  {
   "cell_type": "code",
   "execution_count": null,
   "metadata": {
    "collapsed": false
   },
   "outputs": [],
   "source": []
  },
  {
   "cell_type": "code",
   "execution_count": 205,
   "metadata": {
    "collapsed": false
   },
   "outputs": [
    {
     "name": "stdout",
     "output_type": "stream",
     "text": [
      "found 1103 positive and 1092 negative training files\n",
      "first positive file: Data/train/pos/r1.txt\n",
      "first negative file: Data/train/neg/r10.txt\n"
     ]
    }
   ],
   "source": [
    "pos_train_files = get_files(path + os.sep + 'train' + os.sep + 'pos')\n",
    "neg_train_files = get_files(path + os.sep + 'train' + os.sep + 'neg')\n",
    "all_train_files = pos_train_files + neg_train_files\n",
    "\n",
    "print('found %d positive and %d negative training files' %\n",
    "      (len(pos_train_files), len(neg_train_files)))\n",
    "print('first positive file: %s' % pos_train_files[0])\n",
    "print('first negative file: %s' % neg_train_files[0])"
   ]
  },
  {
   "cell_type": "code",
   "execution_count": 185,
   "metadata": {
    "collapsed": false
   },
   "outputs": [
    {
     "name": "stdout",
     "output_type": "stream",
     "text": [
      "first 3 and last 3 labels are: [1 1 1 0 0 0]\n"
     ]
    }
   ],
   "source": [
    "def get_true_labels(file_names):\n",
    "    \"\"\"Return a *numpy array* of ints for the true sentiment labels of each file.\n",
    "    1 means positive, 0 means negative. Use the name of the file to determine\n",
    "    the true label.\n",
    "    Params:\n",
    "        file_names....a list of .txt file paths, e.g., data/train/pos/10057_9.txt\n",
    "    Returns:\n",
    "        a numpy array of 1 or 0 values corresponding to each element\n",
    "        of file_names, where 1 indicates a positive review, and 0\n",
    "        indicates a negative review.\n",
    "    \"\"\"\n",
    "    ###TODO\n",
    "    ###\n",
    "    labels =[]\n",
    "    for f in file_names:\n",
    "        if 'pos' in f:\n",
    "            labels.append(1)\n",
    "        elif 'neg' in f:\n",
    "            labels.append(0)\n",
    "    lst = np.array(labels)\n",
    "    return lst\n",
    "\n",
    "labels = get_true_labels(all_train_files)\n",
    "print('first 3 and last 3 labels are: %s' % str(labels[[1,2,3,-3,-2,-1]]))"
   ]
  },
  {
   "cell_type": "code",
   "execution_count": 209,
   "metadata": {
    "collapsed": false
   },
   "outputs": [
    {
     "name": "stdout",
     "output_type": "stream",
     "text": [
      "Positive Movie Review:  just exactly what i wanted and would recommend to anyone looking for a great personal computer for everyday use very satisfied \n",
      "\n",
      "Negative Movie Review:  it s disappointing how limited this version of the surface is my daughter cannot use many online textbooks or watch videos for school because the microsoft 8 rt os doesn t allow installation of the necessary plugins or software \n",
      "\n"
     ]
    }
   ],
   "source": [
    "#let's look how does a Posotive, negative review look like\n",
    "\n",
    "f = open(pos_train_files[3],'r')\n",
    "print \"Positive Movie Review: \", f.read(), \"\\n\"\n",
    "f.close()\n",
    "\n",
    "f = open(neg_train_files[0],'r')\n",
    "print \"Negative Movie Review: \", f.read(), \"\\n\"\n",
    "f.close()"
   ]
  },
  {
   "cell_type": "code",
   "execution_count": 220,
   "metadata": {
    "collapsed": false
   },
   "outputs": [],
   "source": [
    "def tokenize(text):\n",
    "    \"\"\"Given a string, return a list of tokens such that: (1) all\n",
    "    tokens are lowercase, (2) all punctuation is removed. Note that\n",
    "    underscore (_) is not considered punctuation.\n",
    "    Params:\n",
    "        text....a string\n",
    "    Returns:\n",
    "        a list of tokens\n",
    "    \"\"\"\n",
    "    \"\"\"regex = re.compile('[%s]' % re.escape(string.punctuation))\n",
    "    text = regex.sub('\\P{P}_','',text)\n",
    "    #text = regex.sub(\\P{P}_+,\"\", text)\n",
    "    #text = text.translate(string.maketrans(\"\",\"\"), string.punctuation)\n",
    "    #preg_replace('/^[^\\P{P}_-]+|[^\\P{P}_-]+$/u', '', text)\n",
    "    print text   \"\"\"\n",
    "    \n",
    "    return processAll(text).split()"
   ]
  },
  {
   "cell_type": "code",
   "execution_count": 229,
   "metadata": {
    "collapsed": false
   },
   "outputs": [
    {
     "name": "stdout",
     "output_type": "stream",
     "text": [
      "Without common Stop Words Matrix represents 2195 Documents with 7688 Features \n",
      "\n",
      "first doc has terms:\n",
      "[6, 28, 93, 164, 203, 235, 282, 323, 356, 505, 528, 547, 577, 578, 584, 590, 595, 612, 615, 663, 678, 694, 702, 727, 753, 808, 823, 881, 922, 931, 959, 972, 1022, 1174, 1188, 1216, 1222, 1244, 1409, 1488, 1495, 1632, 1728, 1731, 1757, 1818, 1867, 1886, 1889, 1906, 1991, 2021, 2039, 2157, 2167, 2169, 2173, 2181, 2236, 2293, 2295, 2324, 2345, 2461, 2463, 2465, 2474, 2486, 2492, 2504, 2548, 2557, 2584, 2674, 2694, 2726, 2729, 2790, 2824, 2836, 2870, 2886, 2912, 2929, 2935, 2975, 3006, 3028, 3032, 3050, 3061, 3102, 3151, 3201, 3213, 3368, 3376, 3402, 3433, 3483, 3576, 3589, 3591, 3612, 3645, 3680, 3695, 3702, 3707, 3712, 3768, 3784, 3839, 3919, 3945, 3983, 4006, 4039, 4040, 4045, 4060, 4065, 4153, 4156, 4165, 4184, 4230, 4244, 4292, 4300, 4318, 4343, 4395, 4401, 4413, 4424, 4439, 4445, 4476, 4490, 4496, 4556, 4571, 4572, 4652, 4661, 4677, 4680, 4721, 4731, 4736, 4737, 4745, 4761, 4906, 5047, 5054, 5076, 5092, 5106, 5126, 5199, 5206, 5216, 5309, 5310, 5432, 5443, 5482, 5688, 5748, 5818, 5829, 5853, 5861, 5862, 5877, 5890, 5945, 5950, 6039, 6087, 6127, 6139, 6147, 6181, 6234, 6266, 6354, 6367, 6392, 6409, 6436, 6455, 6489, 6490, 6545, 6546, 6633, 6650, 6688, 6707, 6734, 6744, 6776, 6809, 6811, 6814, 6836, 6842, 6854, 6858, 6888, 6908, 6926, 7081, 7084, 7210, 7212, 7214, 7215, 7245, 7249, 7252, 7258, 7308, 7315, 7389, 7412, 7442, 7445, 7453, 7464, 7468, 7471, 7477, 7485, 7515, 7523, 7547, 7584, 7588, 7605, 7664]\n"
     ]
    }
   ],
   "source": [
    "def do_vectorize_including_stop_words(filenames, tokenizer_fn=tokenize, min_df=1,\n",
    "                 max_df=1., binary=True, ngram_range=(1,1)):\n",
    "    \"\"\"\n",
    "    Convert a list of filenames into a sparse csr_matrix, where\n",
    "    each row is a file and each column represents a unique word.\n",
    "    Use sklearn's CountVectorizer: http://goo.gl/eJ2PJ5\n",
    "    Params:\n",
    "        filenames.......list of review file names\n",
    "        tokenizer_fn....the function used to tokenize each document\n",
    "        min_df..........remove terms from the vocabulary that don't appear\n",
    "                        in at least this many documents\n",
    "        max_df..........remove terms from the vocabulary that appear in more\n",
    "                        than this fraction of documents\n",
    "        binary..........If true, each documents is represented by a binary\n",
    "                        vector, where 1 means a term occurs at least once in \n",
    "                        the document. If false, the term frequency is used instead.\n",
    "        ngram_range.....A tuple (n,m) means to use phrases of length n to m inclusive.\n",
    "                        E.g., (1,2) means consider unigrams and bigrams.\n",
    "    Return:\n",
    "        A tuple (X, vec), where X is the csr_matrix of feature vectors,\n",
    "        and vec is the CountVectorizer object.\n",
    "    \"\"\"\n",
    "    ###TODO\n",
    "    ###\n",
    "    \n",
    "    \n",
    "    vec = CountVectorizer(input = 'filename', tokenizer = tokenizer_fn,\n",
    "                         min_df = min_df, max_df = max_df, binary = binary, ngram_range = ngram_range,dtype=int)    \n",
    "    X=vec.fit_transform(filenames)\n",
    "    return (X,vec)\n",
    "\n",
    "    \n",
    "matrix_stop, vec_stop = do_vectorize_including_stop_words(all_train_files)\n",
    "print ('Without common Stop Words Matrix represents %d Documents with %d Features ' % (matrix_stop.shape[0], matrix_stop.shape[1]))\n",
    "print\n",
    "print('first doc has terms:\\n%s' % (str(sorted(matrix_stop[1].nonzero()[1]))))"
   ]
  },
  {
   "cell_type": "code",
   "execution_count": 224,
   "metadata": {
    "collapsed": false
   },
   "outputs": [
    {
     "name": "stdout",
     "output_type": "stream",
     "text": [
      "[u'a', u'about', u'above', u'after', u'again', u'against', u'all', u'am', u'an', u'and', u'any', u'are', u\"aren't\", u'as', u'at', u'be', u'because', u'been', u'before', u'being', u'below', u'between', u'both', u'but', u'by', u\"can't\", u'cannot', u'could', u\"couldn't\", u'did', u\"didn't\", u'do', u'does', u\"doesn't\", u'doing', u\"don't\", u'down', u'during', u'each', u'few', u'for', u'from', u'further', u'had', u\"hadn't\", u'has', u\"hasn't\", u'have', u\"haven't\", u'having', u'he', u\"he'd\", u\"he'll\", u\"he's\", u'her', u'here', u\"here's\", u'hers', u'herself', u'him', u'himself', u'his', u'how', u\"how's\", u'i', u\"i'd\", u\"i'll\", u\"i'm\", u\"i've\", u'if', u'in', u'into', u'is', u\"isn't\", u'it', u\"it's\", u'its', u'itself', u\"let's\", u'me', u'more', u'most', u\"mustn't\", u'my', u'myself', u'no', u'nor', u'not', u'of', u'off', u'on', u'once', u'only', u'or', u'other', u'ought', u'our', u'ours', u'ourselves', u'out', u'over', u'own', u'same', u\"shan't\", u'she', u\"she'd\", u\"she'll\", u\"she's\", u'should', u\"shouldn't\", u'so', u'some', u'such', u'than', u'that', u\"that's\", u'the', u'their', u'theirs', u'them', u'themselves', u'then', u'there', u\"there's\", u'these', u'they', u\"they'd\", u\"they'll\", u\"they're\", u\"they've\", u'this', u'those', u'through', u'to', u'too', u'under', u'until', u'up', u'very', u'was', u\"wasn't\", u'we', u\"we'd\", u\"we'll\", u\"we're\", u\"we've\", u'were', u\"weren't\", u'what', u\"what's\", u'when', u\"when's\", u'where', u\"where's\", u'which', u'while', u'who', u\"who's\", u'whom', u'why', u\"why's\", u'with', u\"won't\", u'would', u\"wouldn't\", u'you', u\"you'd\", u\"you'll\", u\"you're\", u\"you've\", u'your', u'yours', u'yourself', u'yourselves']\n",
      "\n",
      "There are total 174 stop words in English\n"
     ]
    }
   ],
   "source": [
    "##  Get the Common stop words in English \n",
    "##  https://github.com/Alir3z4/python-stop-words\n",
    "\n",
    "\n",
    "from stop_words import get_stop_words\n",
    "\n",
    "stop_words = get_stop_words('english')\n",
    "print stop_words\n",
    "print\n",
    "\n",
    "print (\"There are total %d stop words in English\" % len(stop_words))"
   ]
  },
  {
   "cell_type": "code",
   "execution_count": 244,
   "metadata": {
    "collapsed": false
   },
   "outputs": [
    {
     "name": "stdout",
     "output_type": "stream",
     "text": [
      "Our feature vector has 120 stop words\n"
     ]
    }
   ],
   "source": [
    "## Find how many words are there in our feature matrix\n",
    "\n",
    "cnt = len(set(vec_stop.get_feature_names()).intersection(stop_words))\n",
    "print \"Our feature vector has %d stop words\" % (cnt)"
   ]
  },
  {
   "cell_type": "code",
   "execution_count": 235,
   "metadata": {
    "collapsed": false
   },
   "outputs": [
    {
     "name": "stdout",
     "output_type": "stream",
     "text": [
      "From total 174 stop_words, our feature vector has 120 stop_words\n"
     ]
    }
   ],
   "source": [
    "count = 0\n",
    "for i in stop_words:\n",
    "    if i in vec_stop.get_feature_names():\n",
    "        count += 1\n",
    "print (\"From total %d stop_words, our feature vector has %d stop words\" % (len(stop_words), count))"
   ]
  },
  {
   "cell_type": "code",
   "execution_count": 246,
   "metadata": {
    "collapsed": false
   },
   "outputs": [
    {
     "name": "stdout",
     "output_type": "stream",
     "text": [
      "matrix represents 2195 documents with 7408 features (Here stop words are REMOVED)\n",
      "first doc has terms:\n",
      "[6, 28, 93, 164, 203, 235, 282, 323, 501, 539, 636, 651, 667, 777, 791, 887, 911, 923, 973, 1162, 1187, 1352, 1431, 1438, 1574, 1668, 1671, 1697, 1757, 1806, 1825, 1828, 1845, 1929, 1958, 1976, 2103, 2105, 2109, 2117, 2170, 2224, 2226, 2255, 2274, 2386, 2404, 2410, 2421, 2465, 2474, 2501, 2591, 2642, 2700, 2734, 2791, 2837, 2876, 2927, 2931, 2959, 3000, 3261, 3455, 3468, 3470, 3491, 3523, 3557, 3578, 3641, 3656, 3711, 3788, 3813, 3851, 3874, 3907, 3908, 3913, 3928, 3933, 4020, 4023, 4032, 4107, 4155, 4163, 4180, 4204, 4258, 4269, 4294, 4326, 4340, 4346, 4399, 4412, 4496, 4559, 4582, 4725, 4863, 4870, 4892, 4908, 4922, 4942, 5015, 5022, 5032, 5125, 5126, 5245, 5256, 5295, 5501, 5561, 5631, 5642, 5666, 5674, 5689, 5702, 5757, 5762, 5892, 5929, 5941, 5981, 6034, 6146, 6159, 6184, 6201, 6228, 6247, 6280, 6281, 6336, 6337, 6423, 6440, 6477, 6522, 6532, 6563, 6610, 6653, 6688, 6838, 6841, 6965, 6967, 6968, 6996, 7000, 7003, 7009, 7059, 7138, 7189, 7192, 7200, 7252, 7310, 7314]\n"
     ]
    }
   ],
   "source": [
    "def do_vectorize(filenames, tokenizer_fn=tokenize, min_df=1,\n",
    "                 max_df=1., binary=True, ngram_range=(1,1)):\n",
    "    \n",
    "    #Convert a collection of text documents to a matrix of token counts\n",
    "    vectorizer = CountVectorizer(input='filename', tokenizer=tokenizer_fn, min_df=min_df,\n",
    "                 max_df=max_df, binary=binary, ngram_range=ngram_range, stop_words = 'english', dtype=int)\n",
    "    #return term-document matrix\n",
    "    X = vectorizer.fit_transform(filenames)   \n",
    "    return (X,vectorizer)\n",
    "    \n",
    "matrix, vec = do_vectorize(all_train_files)\n",
    "print ('matrix represents %d documents with %d features (Here stop words are REMOVED)' % (matrix.shape[0], matrix.shape[1]))\n",
    "print('first doc has terms:\\n%s' % (str(sorted(matrix[1].nonzero()[1]))))"
   ]
  },
  {
   "cell_type": "code",
   "execution_count": 247,
   "metadata": {
    "collapsed": true
   },
   "outputs": [],
   "source": [
    "def tokenize_with_not(text):\n",
    "    \"\"\"Does the same thing as tokenize_with_punct, with the following difference:\n",
    "    whenever the term 'not' appears, change the two subsequent tokens to have the prefix\n",
    "    'not_' prior to the token. See the example below. You may call \n",
    "    tokenize_with_punct as a subroutine.\n",
    "    Params:\n",
    "        text....a string\n",
    "    Returns:\n",
    "        a list of tokens\n",
    "    \"\"\"\n",
    "    ###TODO\n",
    "    ###\n",
    "    list = tokenize(text)\n",
    "    for i,token in enumerate(list):\n",
    "        if token == 'not':\n",
    "            \n",
    "            if i+1 < len(list):\n",
    "                list[i+1] = 'not_' + list[i+1]\n",
    "            \n",
    "    return list"
   ]
  },
  {
   "cell_type": "code",
   "execution_count": 249,
   "metadata": {
    "collapsed": false
   },
   "outputs": [
    {
     "name": "stdout",
     "output_type": "stream",
     "text": [
      "matrix represents 2195 documents with 7408 features (Here stop words are REMOVED)\n",
      "first doc has terms:\n",
      "[6, 28, 93, 164, 203, 235, 282, 323, 501, 539, 636, 651, 667, 777, 791, 887, 911, 923, 973, 1162, 1187, 1352, 1431, 1438, 1574, 1668, 1671, 1697, 1757, 1806, 1825, 1828, 1845, 1929, 1958, 1976, 2103, 2105, 2109, 2117, 2170, 2224, 2226, 2255, 2274, 2386, 2404, 2410, 2421, 2465, 2474, 2501, 2591, 2642, 2700, 2734, 2791, 2837, 2876, 2927, 2931, 2959, 3000, 3261, 3455, 3468, 3470, 3491, 3523, 3557, 3578, 3641, 3656, 3711, 3788, 3813, 3851, 3874, 3907, 3908, 3913, 3928, 3933, 4020, 4023, 4032, 4107, 4155, 4163, 4180, 4204, 4258, 4269, 4294, 4326, 4340, 4346, 4399, 4412, 4496, 4559, 4582, 4725, 4863, 4870, 4892, 4908, 4922, 4942, 5015, 5022, 5032, 5125, 5126, 5245, 5256, 5295, 5501, 5561, 5631, 5642, 5666, 5674, 5689, 5702, 5757, 5762, 5892, 5929, 5941, 5981, 6034, 6146, 6159, 6184, 6201, 6228, 6247, 6280, 6281, 6336, 6337, 6423, 6440, 6477, 6522, 6532, 6563, 6610, 6653, 6688, 6838, 6841, 6965, 6967, 6968, 6996, 7000, 7003, 7009, 7059, 7138, 7189, 7192, 7200, 7252, 7310, 7314]\n"
     ]
    }
   ],
   "source": [
    "matrix, vec = do_vectorize(all_train_files, tokenizer_fn=tokenize_with_not)\n",
    "print ('matrix represents %d documents with %d features (Here stop words are REMOVED)' % (matrix.shape[0], matrix.shape[1]))\n",
    "print('first doc has terms:\\n%s' % (str(sorted(matrix[1].nonzero()[1]))))"
   ]
  },
  {
   "cell_type": "code",
   "execution_count": 252,
   "metadata": {
    "collapsed": false
   },
   "outputs": [
    {
     "name": "stdout",
     "output_type": "stream",
     "text": [
      "first shuffled document Data/train/pos/r1181.txt has label 1 and terms: [71, 1415, 1459, 1874, 1910, 1929, 2229, 2404, 2417, 2552, 2566, 2941, 2958, 3210, 3581, 3732, 3900, 4507, 4551, 4870, 5055, 5649, 5838, 6094, 6610, 6965, 7000, 7011, 7312, 7314, 7374]\n"
     ]
    }
   ],
   "source": [
    "# Do not modify. This is to randomize the order of the documents, but\n",
    "# in a way that is consistent across platforms.\n",
    "# See: http://stackoverflow.com/a/18992474/1756896\n",
    "# You should run this block once to get the shuffled data.\n",
    "def repeatable_random(seed):\n",
    "    hash = str(seed)\n",
    "    while True:\n",
    "        hash = hashlib.md5(hash).digest()\n",
    "        for c in hash:\n",
    "            yield ord(c)\n",
    "\n",
    "def repeatable_shuffle(X, y, filenames):\n",
    "    r = repeatable_random(42) \n",
    "    indices = sorted(range(X.shape[0]), key=lambda x: next(r))\n",
    "    return X[indices], y[indices], np.array(filenames)[indices]\n",
    "\n",
    "X, y, filenames = repeatable_shuffle(matrix, labels, all_train_files)\n",
    "\n",
    "print('first shuffled document %s has label %d and terms: %s' % \n",
    "      (filenames[0], y[0], sorted(X[0].nonzero()[1])))"
   ]
  },
  {
   "cell_type": "code",
   "execution_count": 254,
   "metadata": {
    "collapsed": false
   },
   "outputs": [
    {
     "name": "stdout",
     "output_type": "stream",
     "text": [
      "matrix represents 2195 documents with 6701 features (Here stop words are REMOVED)\n",
      "first doc has terms:\n",
      "[6, 28, 93, 163, 202, 233, 280, 321, 485, 521, 610, 623, 638, 741, 755, 842, 865, 875, 921, 1088, 1110, 1259, 1326, 1333, 1453, 1535, 1561, 1616, 1661, 1679, 1682, 1697, 1772, 1798, 1813, 1925, 1929, 1933, 1939, 1986, 2033, 2035, 2063, 2080, 2182, 2200, 2205, 2216, 2257, 2264, 2290, 2375, 2420, 2466, 2498, 2551, 2593, 2628, 2674, 2677, 2703, 2741, 2785, 2975, 3155, 3168, 3170, 3189, 3220, 3254, 3274, 3330, 3344, 3390, 3461, 3481, 3513, 3530, 3561, 3562, 3566, 3579, 3585, 3664, 3673, 3741, 3780, 3787, 3802, 3822, 3870, 3878, 3902, 3934, 3948, 3953, 4003, 4016, 4093, 4152, 4173, 4301, 4425, 4433, 4453, 4466, 4478, 4496, 4562, 4567, 4574, 4653, 4654, 4757, 4767, 4805, 4994, 5044, 5113, 5124, 5148, 5156, 5169, 5182, 5227, 5232, 5345, 5376, 5387, 5423, 5473, 5561, 5582, 5604, 5621, 5642, 5657, 5685, 5686, 5733, 5734, 5815, 5831, 5863, 5903, 5911, 5938, 5980, 6016, 6045, 6177, 6300, 6302, 6328, 6332, 6335, 6340, 6386, 6439, 6457, 6501, 6503, 6507, 6557, 6602, 6609]\n"
     ]
    }
   ],
   "source": [
    "from nltk import word_tokenize          \n",
    "from nltk.stem import WordNetLemmatizer \n",
    "class LemmaTokenizer(object):\n",
    "    def __init__(self):\n",
    "        self.wnl = WordNetLemmatizer()\n",
    "    def __call__(self, doc):\n",
    "        return [self.wnl.lemmatize(t) for t in word_tokenize(doc)]\n",
    "    \n",
    "def do_vectorize(filenames, tokenizer_fn=tokenize, min_df=1,\n",
    "                 max_df=1., binary=True, ngram_range=(1,1)):\n",
    "    \n",
    "    #Convert a collection of text documents to a matrix of token counts\n",
    "    vectorizer = CountVectorizer(input='filename', tokenizer=LemmaTokenizer(), min_df=min_df,\n",
    "                 max_df=max_df, binary=binary, ngram_range=ngram_range, stop_words = 'english', dtype=int)\n",
    "    #return term-document matrix\n",
    "    X = vectorizer.fit_transform(filenames)   \n",
    "    return (X,vectorizer)\n",
    "    \n",
    "matrix_sl, vec_sl = do_vectorize(all_train_files)\n",
    "print ('matrix represents %d documents with %d features (Here stop words are REMOVED)' % (matrix_sl.shape[0], matrix_sl.shape[1]))\n",
    "print('first doc has terms:\\n%s' % (str(sorted(matrix_sl[1].nonzero()[1]))))"
   ]
  }
 ],
 "metadata": {
  "kernelspec": {
   "display_name": "Python 2",
   "language": "python",
   "name": "python2"
  },
  "language_info": {
   "codemirror_mode": {
    "name": "ipython",
    "version": 2
   },
   "file_extension": ".py",
   "mimetype": "text/x-python",
   "name": "python",
   "nbconvert_exporter": "python",
   "pygments_lexer": "ipython2",
   "version": "2.7.6"
  }
 },
 "nbformat": 4,
 "nbformat_minor": 0
}
